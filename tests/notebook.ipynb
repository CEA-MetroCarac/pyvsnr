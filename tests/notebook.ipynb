{
 "cells": [
  {
   "cell_type": "code",
   "execution_count": 1,
   "metadata": {
    "tags": []
   },
   "outputs": [],
   "source": [
    "# %matplotlib widget\n",
    "import sys\n",
    "sys.path.append(\"..\")\n",
    "\n",
    "import matplotlib.pyplot as plt\n",
    "import skimage.data\n",
    "import numpy as np\n",
    "import cupy as cp\n",
    "\n",
    "from src.pyvsnr import vsnr2d\n",
    "from src.pyvsnr.utils import curtains_addition, stripes_addition, add_gaussian_noise\n",
    "from utils import measure_vsnr_cuda, measure_vsnr_numpy, measure_vsnr_cupy, print_psnr, plot_results, print_max_diff, peak_signal_noise_ratio\n",
    "xp = cp"
   ]
  },
  {
   "cell_type": "markdown",
   "metadata": {},
   "source": [
    "### Image preparation"
   ]
  },
  {
   "cell_type": "code",
   "execution_count": null,
   "metadata": {},
   "outputs": [],
   "source": [
    "img = skimage.data.camera()\n",
    "img = img / 255  # normalize to [0,1]\n",
    "\n",
    "filters = [{'name':'Gabor', 'noise_level':100, 'sigma':(1000,0.1), 'theta':0}]\n",
    "maxit = 20"
   ]
  },
  {
   "cell_type": "code",
   "execution_count": null,
   "metadata": {},
   "outputs": [],
   "source": [
    "# Add vertical stripes (Dirac filter)\n",
    "noisy_img = stripes_addition(img, amplitude=0.2)"
   ]
  },
  {
   "cell_type": "markdown",
   "metadata": {},
   "source": [
    "### CuPy vs CUDA vs NumPy Speed Comparison"
   ]
  },
  {
   "cell_type": "code",
   "execution_count": null,
   "metadata": {},
   "outputs": [],
   "source": [
    "%timeit measure_vsnr_cuda(noisy_img, filters, nite=maxit)\n",
    "img_corr_cuda = measure_vsnr_cuda(noisy_img, filters, nite=maxit)"
   ]
  },
  {
   "cell_type": "code",
   "execution_count": null,
   "metadata": {},
   "outputs": [],
   "source": [
    "if xp==cp:\n",
    "    %timeit measure_vsnr_cupy(noisy_img, filters, maxit=maxit)\n",
    "    img_corr_py = vsnr2d(noisy_img, filters, maxit=maxit, algo='cupy')\n",
    "else:\n",
    "    %timeit measure_vsnr_numpy(noisy_img, filters, maxit=maxit)\n",
    "    img_corr_py = vsnr2d(noisy_img, filters, maxit=maxit, algo='numpy')"
   ]
  },
  {
   "cell_type": "markdown",
   "metadata": {},
   "source": [
    "### PSNR"
   ]
  },
  {
   "cell_type": "code",
   "execution_count": null,
   "metadata": {},
   "outputs": [],
   "source": [
    "print_max_diff(img_corr_py, img_corr_cuda, xp) # sometimes precision might be >1e-6\n",
    "print_psnr(img, noisy_img, img_corr_py, img_corr_cuda)\n",
    "plot_results(img, noisy_img, img_corr_py, img_corr_cuda, xp, save_plots=True, title='camera_stripes.png')"
   ]
  },
  {
   "cell_type": "markdown",
   "metadata": {},
   "source": [
    "### Test Gaussian noise"
   ]
  },
  {
   "cell_type": "code",
   "execution_count": null,
   "metadata": {},
   "outputs": [],
   "source": [
    "img=skimage.data.camera()/255\n",
    "\n",
    "# Add gaussian noise\n",
    "noisy_img = add_gaussian_noise(img)\n",
    "\n",
    "\n",
    "filters=[{'name':'Dirac', 'noise_level':0.35}]\n",
    "img_corr_cuda = measure_vsnr_cuda(noisy_img, filters, nite=20)\n",
    "\n",
    "if xp==cp:\n",
    "    img_corr_py = measure_vsnr_cupy(noisy_img, filters, maxit=20)\n",
    "else:\n",
    "    img_corr_py = measure_vsnr_numpy(noisy_img, filters, maxit=20)\n",
    "\n",
    "print_max_diff(img_corr_cuda, img_corr_py, xp)\n",
    "print_psnr(img, noisy_img, img_corr_py, img_corr_cuda)\n",
    "plot_results(img, noisy_img, img_corr_py, img_corr_cuda, xp, save_plots=True, title='camera_gaussian.png')"
   ]
  },
  {
   "cell_type": "markdown",
   "metadata": {},
   "source": [
    "### Test Curtains"
   ]
  },
  {
   "cell_type": "code",
   "execution_count": null,
   "metadata": {},
   "outputs": [],
   "source": [
    "# Generate image with noise\n",
    "img_base=skimage.data.camera()\n",
    "img_base=img_base/255\n",
    "noisy_img = curtains_addition(img_base, amplitude=0.2, angle=50)\n",
    "\n",
    "# Process image\n",
    "filters = [{'name':'Gabor', 'noise_level':20, 'sigma':(3,40), 'theta':50}]\n",
    "img_corr_cuda = measure_vsnr_cuda(noisy_img, filters, nite=maxit)\n",
    "if xp==cp:\n",
    "    img_corr_py = measure_vsnr_cupy(noisy_img, filters, maxit=maxit)\n",
    "else:\n",
    "    img_corr_py = measure_vsnr_numpy(noisy_img, filters, maxit=maxit)\n",
    "\n",
    "print_max_diff(img_corr_cuda, img_corr_py, xp)\n",
    "print_psnr(img_base, noisy_img, img_corr_py, img_corr_cuda)\n",
    "plot_results(img_base, noisy_img, img_corr_py, img_corr_cuda, xp, save_plots=True, title='camera_curtains.png')"
   ]
  },
  {
   "cell_type": "markdown",
   "metadata": {},
   "source": [
    "### Test FIBSEM"
   ]
  },
  {
   "cell_type": "code",
   "execution_count": null,
   "metadata": {},
   "outputs": [],
   "source": [
    "#load image fib_sem.tif\n",
    "img = skimage.io.imread('./images/fib_sem.tif')/255\n",
    "\n",
    "filters = [{'name':'Gabor', 'noise_level':30, 'sigma':(1,30), 'theta':358}]\n",
    "\n",
    "# process image\n",
    "img_corr_cuda = measure_vsnr_cuda(img, filters, nite=maxit)\n",
    "\n",
    "if xp==cp:\n",
    "    img_corr_py = measure_vsnr_cupy(img, filters, maxit=maxit)\n",
    "else:\n",
    "    img_corr_py = measure_vsnr_numpy(img, filters, maxit=maxit)\n",
    "\n",
    "# print PSNR & save plots\n",
    "print_max_diff(img_corr_cuda, img_corr_py, xp) # sometimes precision might be >1e-6\n",
    "print_psnr(img, img, img_corr_py, img_corr_cuda)\n",
    "\n",
    "plt.figure(figsize=(15,15))\n",
    "plt.subplot(1,2,1)\n",
    "plt.imshow(img, cmap='gray')\n",
    "plt.title('Original')\n",
    "\n",
    "plt.subplot(1,2,2)\n",
    "plt.imshow(img_corr_py, cmap='gray')\n",
    "plt.title('Corrected')\n",
    "\n",
    "plt.savefig('./images/fib_sem_corr.png', bbox_inches='tight')\n"
   ]
  },
  {
   "cell_type": "markdown",
   "metadata": {},
   "source": [
    "### Minimal example"
   ]
  },
  {
   "cell_type": "code",
   "execution_count": null,
   "metadata": {
    "tags": []
   },
   "outputs": [],
   "source": [
    "# Generate image with noise\n",
    "img=0.5*np.ones((512,512), dtype=np.float32)\n",
    "noisy_img = stripes_addition(img, amplitude=0.2, norm=False)\n",
    "\n",
    "\n",
    "# Process image\n",
    "filters = [{'name':'Gabor', 'noise_level':100, 'sigma':(1000,0.1), 'theta':0}]\n",
    "img_corr_cuda = measure_vsnr_cuda(noisy_img, filters, nite=maxit, norm=False)\n",
    "if xp==cp:\n",
    "    img_corr_py = measure_vsnr_cupy(noisy_img, filters, maxit=maxit, norm=False)\n",
    "else:\n",
    "    img_corr_py = measure_vsnr_numpy(noisy_img, filters, maxit=maxit, norm=False)\n",
    "\n",
    "print_max_diff(img_corr_cuda, img_corr_py, xp)\n",
    "print_psnr(img, noisy_img, img_corr_py, img_corr_cuda)\n",
    "plot_results(img, noisy_img, img_corr_py, img_corr_cuda, xp, vmin=0.3, vmax=0.7)"
   ]
  },
  {
   "cell_type": "markdown",
   "metadata": {},
   "source": [
    "### Minimal example 2"
   ]
  },
  {
   "cell_type": "code",
   "execution_count": null,
   "metadata": {},
   "outputs": [],
   "source": [
    "# Generate image with noise\n",
    "img=0.5*np.ones((512,512), dtype=np.float32)\n",
    "noisy_img = curtains_addition(img, amplitude=0.6, angle=50, norm=False)\n",
    "\n",
    "\n",
    "# Process image\n",
    "filters = [{'name':'Gabor', 'noise_level':60, 'sigma':(3,40), 'theta':50}]\n",
    "img_corr_cuda = measure_vsnr_cuda(noisy_img, filters, nite=maxit, norm=False)\n",
    "if xp==cp:\n",
    "    img_corr_py = measure_vsnr_cupy(noisy_img, filters, maxit=maxit, norm=False)\n",
    "else:\n",
    "    img_corr_py = measure_vsnr_numpy(noisy_img, filters, maxit=maxit, norm=False)\n",
    "\n",
    "print(f\"Mean of original image:         {img.mean()}\")\n",
    "print(f\"Mean of noisy image:            {noisy_img.mean()}\")\n",
    "print(f\"Mean of corrected image (CuPy): {img_corr_py.mean()}\")\n",
    "print(f\"Mean of corrected image (CUDA): {img_corr_cuda.mean()}\")\n",
    "\n",
    "print_max_diff(img_corr_cuda, img_corr_py, xp)\n",
    "print_psnr(img, noisy_img, img_corr_py, img_corr_cuda)\n",
    "plot_results(img, noisy_img, img_corr_py, img_corr_cuda, xp, vmin=0.3, vmax=0.7)"
   ]
  },
  {
   "cell_type": "markdown",
   "metadata": {},
   "source": [
    "### PSNR Analysis"
   ]
  },
  {
   "cell_type": "code",
   "execution_count": null,
   "metadata": {},
   "outputs": [],
   "source": [
    "# Generate image with noise\n",
    "img=skimage.data.camera()\n",
    "img=img/255\n",
    "noisy_img = stripes_addition(img, amplitude=0.2)\n",
    "\n",
    "# Process image\n",
    "filters = [{'name':'Gabor', 'noise_level':100, 'sigma':(1000,0.1), 'theta':0}]\n",
    "maxit = 50\n",
    "psnr_cuda = []\n",
    "for i in range(1,maxit):\n",
    "    img_clean = vsnr2d(noisy_img, filters, maxit=i, algo='cupy', verbose=True)\n",
    "    psnr_cuda.append(peak_signal_noise_ratio(img, img_clean))\n",
    "\n",
    "    #Plotting each iteration\n",
    "    # if i%4==0:\n",
    "    #     plt.figure(figsize=(5, 5))\n",
    "    #     plt.imshow(img_clean.get())\n",
    "    #     plt.title(f\"Denoised Image w/ maxit={i}\")\n",
    "    #     plt.tight_layout()\n",
    "\n",
    "# Determine optimal number of iterations\n",
    "maxit_optimal = np.argmax(psnr_cuda) + 1\n",
    "\n",
    "print('Optimal number of iterations: ', maxit_optimal)\n",
    "# Process image with optimal number of iterations\n",
    "img_clean_optimal = measure_vsnr_cupy(noisy_img, filters, maxit=maxit_optimal)\n",
    "\n",
    "if type(img_clean_optimal) == cp.ndarray:\n",
    "    img_clean_optimal = img_clean_optimal.get()\n",
    "\n",
    "# Plot PSNR graph\n",
    "plt.figure(figsize=(15, 5))\n",
    "plt.subplot(1, 3, 1)\n",
    "plt.plot(psnr_cuda)\n",
    "plt.xlabel('N Iteration')\n",
    "plt.ylabel('PSNR')\n",
    "\n",
    "# Plot original image\n",
    "plt.subplot(1, 3, 2)\n",
    "plt.imshow(noisy_img)\n",
    "plt.title('Noisy Image')\n",
    "\n",
    "# Plot denoised image\n",
    "plt.subplot(1, 3, 3)\n",
    "plt.imshow(img_clean_optimal)\n",
    "plt.title(f\"Denoised Image w/ optimal maxit={maxit_optimal}\")\n",
    "\n",
    "plt.tight_layout()"
   ]
  },
  {
   "cell_type": "markdown",
   "metadata": {},
   "source": [
    "### CVG Criteria Analysis"
   ]
  },
  {
   "cell_type": "code",
   "execution_count": null,
   "metadata": {},
   "outputs": [],
   "source": [
    "img=0.5*np.ones((512,512), dtype=np.float32)\n",
    "noisy_img = stripes_addition(img, amplitude=0.2, norm=False)\n",
    "filters = [{'name':'Gabor', 'noise_level':100, 'sigma':(1000,0.1), 'theta':0}]\n",
    "maxit = 50\n",
    "\n",
    "img_corr, cvg_criterias = vsnr2d(noisy_img, filters, maxit=maxit, norm=False, return_cvg=True)\n",
    "\n",
    "print(cvg_criterias)\n",
    "# plot cvg criteria\n",
    "plt.figure(figsize=(15, 5))\n",
    "plt.semilogy(cvg_criterias)\n",
    "plt.xlabel('N Iteration')\n",
    "plt.ylabel('Cvg Criteria')"
   ]
  },
  {
   "cell_type": "code",
   "execution_count": null,
   "metadata": {},
   "outputs": [],
   "source": [
    "# Cvg criteria analysis on camera.tif image\n",
    "img= skimage.data.camera()\n",
    "noisy_img = stripes_addition(img, amplitude=0.2)\n",
    "\n",
    "# Process image\n",
    "filters = [{'name':'Gabor', 'noise_level':100, 'sigma':(1000,0.1), 'theta':0}]\n",
    "maxit = 50\n",
    "\n",
    "img_corr, cvg_criterias = vsnr2d(noisy_img, filters, maxit=maxit, algo='cupy' ,cvg_threshold=1e-2, return_cvg=True)\n",
    "\n",
    "# plot cvg criteria\n",
    "plt.figure(figsize=(15, 5))\n",
    "plt.semilogy(cvg_criterias)\n",
    "plt.xlabel('N Iteration')\n",
    "plt.ylabel('Cvg Criteria')"
   ]
  },
  {
   "cell_type": "code",
   "execution_count": null,
   "metadata": {},
   "outputs": [],
   "source": [
    "# cvg criteria analysis on fib_sem.tif\n",
    "img= skimage.io.imread('./images/fib_sem.tif')/255\n",
    "filters = [{'name':'Gabor', 'noise_level':30, 'sigma':(1,30), 'theta':358}]\n",
    "maxit = 50\n",
    "\n",
    "img_corr, cvg_criterias = vsnr2d(img, filters, maxit=maxit, return_cvg=True)\n",
    "\n",
    "# plot cvg criteria\n",
    "plt.figure(figsize=(15, 5))\n",
    "plt.semilogy(cvg_criterias)\n",
    "plt.xlabel('N Iteration')\n",
    "plt.ylabel('Cvg Criteria')\n"
   ]
  },
  {
   "cell_type": "code",
   "execution_count": null,
   "metadata": {},
   "outputs": [],
   "source": [
    "# cvg criteria analysis on camera with curtains\n",
    "img= skimage.data.camera()/255\n",
    "noisy_img = curtains_addition(img, amplitude=0.2, angle=50)\n",
    "\n",
    "# Process image\n",
    "filters = [{'name':'Gabor', 'noise_level':20, 'sigma':(3,40), 'theta':50}]\n",
    "maxit = 50\n",
    "\n",
    "img_corr, cvg_criterias = vsnr2d(noisy_img, filters, maxit=maxit, algo='auto', return_cvg=True)\n",
    "\n",
    "# plot cvg criteria\n",
    "plt.figure(figsize=(15, 5))\n",
    "plt.semilogy(cvg_criterias)\n",
    "plt.xlabel('N Iteration')\n",
    "plt.ylabel('Cvg Criteria')\n"
   ]
  },
  {
   "cell_type": "markdown",
   "metadata": {},
   "source": [
    "### Performance Analysis"
   ]
  },
  {
   "cell_type": "code",
   "execution_count": null,
   "metadata": {},
   "outputs": [],
   "source": [
    "# performance comparison between numpy and cupy and cuda based on the number of iterations\n",
    "import time\n",
    "\n",
    "img=skimage.data.camera()\n",
    "img=img/255\n",
    "noisy_img = stripes_addition(img, amplitude=0.2)\n",
    "\n",
    "# Process image\n",
    "filters = [{'name':'Gabor', 'noise_level':100, 'sigma':(1000,0.1), 'theta':0}]\n",
    "maxit = 50\n",
    "time_cuda = []\n",
    "time_cupy = []\n",
    "time_numpy = []\n",
    "\n",
    "# CUDA\n",
    "for i in range(1,maxit):\n",
    "    start = time.perf_counter()\n",
    "    vsnr2d(noisy_img, filters, maxit=i, algo='cuda')\n",
    "    end = time.perf_counter()\n",
    "    time_cuda.append(end-start)\n",
    "\n",
    "# CuPy\n",
    "for i in range(1,maxit):\n",
    "    start = time.perf_counter()\n",
    "    vsnr2d(noisy_img, filters, maxit=i, algo='cupy')\n",
    "    end = time.perf_counter()\n",
    "    time_cupy.append(end-start)\n",
    "\n",
    "# NumPy\n",
    "for i in range(1,maxit):\n",
    "    start = time.perf_counter()\n",
    "    vsnr2d(noisy_img, filters, maxit=i, algo='numpy')\n",
    "    end = time.perf_counter()\n",
    "    time_numpy.append(end-start)\n",
    "\n",
    "# Plot time taken on one graph\n",
    "plt.figure(figsize=(15, 5))\n",
    "plt.plot(time_numpy, label='NumPy')\n",
    "plt.plot(time_cupy, label='CuPy')\n",
    "plt.plot(time_cuda, label='CUDA')\n",
    "plt.xlabel('N Iterations')\n",
    "plt.ylabel('time taken (s)')\n",
    "plt.legend()\n"
   ]
  },
  {
   "cell_type": "code",
   "execution_count": null,
   "metadata": {},
   "outputs": [],
   "source": [
    "# performance comparison between numpy and cupy and cuda based on the size of the image\n",
    "sizes = [256, 512, 1024, 2048]\n",
    "    \n",
    "time_cuda = []\n",
    "time_cupy = []\n",
    "time_numpy = []\n",
    "\n",
    "for size in sizes:\n",
    "    # Generate image with noise\n",
    "    img=0.5*np.ones((size,size), dtype=np.float32)\n",
    "    noisy_img = stripes_addition(img, amplitude=0.2)\n",
    "\n",
    "    # Process image\n",
    "    filters = [{'name':'Gabor', 'noise_level':100, 'sigma':(1000,0.1), 'theta':0}]\n",
    "    maxit = 10\n",
    "\n",
    "    # CUDA\n",
    "    start = time.perf_counter()\n",
    "    vsnr2d(noisy_img, filters, maxit=maxit, algo='cuda')\n",
    "    end = time.perf_counter()\n",
    "    time_cuda.append(end-start)\n",
    "\n",
    "    # CuPy\n",
    "    start = time.perf_counter()\n",
    "    vsnr2d(noisy_img, filters, maxit=maxit, algo='cupy')\n",
    "    end = time.perf_counter()\n",
    "    time_cupy.append(end-start)\n",
    "\n",
    "    # NumPy\n",
    "    start = time.perf_counter()\n",
    "    vsnr2d(noisy_img, filters, maxit=maxit, algo='numpy')\n",
    "    end = time.perf_counter()\n",
    "    time_numpy.append(end-start)\n",
    "\n",
    "# Plot time taken on one graph\n",
    "plt.figure(figsize=(15, 5))\n",
    "plt.plot(sizes, time_numpy, label='NumPy')\n",
    "plt.plot(sizes, time_cupy, label='CuPy')\n",
    "plt.plot(sizes, time_cuda, label='CUDA')\n",
    "plt.xlabel('Image Size (px)')\n",
    "plt.ylabel('time (s)')\n",
    "plt.legend()"
   ]
  }
 ],
 "metadata": {
  "kernelspec": {
   "display_name": "Python 3",
   "language": "python",
   "name": "python3"
  },
  "language_info": {
   "codemirror_mode": {
    "name": "ipython",
    "version": 3
   },
   "file_extension": ".py",
   "mimetype": "text/x-python",
   "name": "python",
   "nbconvert_exporter": "python",
   "pygments_lexer": "ipython3",
   "version": "3.11.9"
  }
 },
 "nbformat": 4,
 "nbformat_minor": 2
}
