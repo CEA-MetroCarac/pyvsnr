{
 "cells": [
  {
   "cell_type": "code",
   "execution_count": null,
   "metadata": {},
   "outputs": [],
   "source": [
    "%matplotlib widget\n",
    "import sys\n",
    "sys.path.append(\"..\")\n",
    "\n",
    "import skimage\n",
    "from skimage.color import rgb2gray\n",
    "import numpy as np\n",
    "import matplotlib.pyplot as plt\n",
    "from src.pyvsnr import vsnr2d\n",
    "from src.pyvsnr.utils import stripes_addition, curtains_addition\n",
    "from utils import print_psnr"
   ]
  },
  {
   "cell_type": "markdown",
   "metadata": {},
   "source": [
    "### 4 images, same noise"
   ]
  },
  {
   "cell_type": "markdown",
   "metadata": {},
   "source": [
    "#### Preparing Images"
   ]
  },
  {
   "cell_type": "code",
   "execution_count": null,
   "metadata": {},
   "outputs": [],
   "source": [
    "# Load the images\n",
    "img1 = skimage.data.moon()\n",
    "img2 = skimage.data.camera()\n",
    "img3 = rgb2gray(skimage.data.astronaut())\n",
    "img4 = rgb2gray(skimage.data.immunohistochemistry())\n",
    "\n",
    "imgs_src = np.array([img1, img2, img3, img4])\n",
    "imgs_noisy = np.array([curtains_addition(img) for img in imgs_src])"
   ]
  },
  {
   "cell_type": "markdown",
   "metadata": {},
   "source": [
    "#### Plotting"
   ]
  },
  {
   "cell_type": "code",
   "execution_count": null,
   "metadata": {},
   "outputs": [],
   "source": [
    "# Clean, target\n",
    "fig, axs = plt.subplots(2, 2, figsize=(7,7), tight_layout=True)\n",
    "for i, ax in enumerate(axs.flat):\n",
    "    ax.imshow(imgs_src[i], cmap='gray')\n",
    "    ax.set_title(f\"Target\")\n",
    "    ax.axis('off')\n",
    "plt.show()\n",
    "\n",
    "# Noisy, input\n",
    "fig, axs = plt.subplots(2, 2, figsize=(7,7), tight_layout=True)\n",
    "for i, ax in enumerate(axs.flat):\n",
    "    ax.imshow(imgs_noisy[i], cmap='gray')\n",
    "    ax.set_title(f\"Input\")\n",
    "    ax.axis('off')\n",
    "plt.show()"
   ]
  },
  {
   "cell_type": "markdown",
   "metadata": {},
   "source": [
    "#### Removing noise from images"
   ]
  },
  {
   "cell_type": "code",
   "execution_count": null,
   "metadata": {},
   "outputs": [],
   "source": [
    "# Create a list to store the results\n",
    "filters = [{'name':'Gabor', 'noise_level':20, 'sigma':(3,40), 'theta':0}]\n",
    "imgs_batch = vsnr2d(imgs_noisy, filters, algo=\"cupy\")\n",
    "imgs = vsnr2d(imgs_noisy, filters, algo=\"cuda\")\n",
    "\n",
    "# Plot each image\n",
    "fig, axs = plt.subplots(4, 2, figsize=(10,15), tight_layout=True)\n",
    "\n",
    "for i in range(4):\n",
    "    print(f\"PSNR Image {i+1} :\")\n",
    "    print_psnr(imgs_src[i], imgs_noisy[i], imgs_batch[i], imgs[i], data_range=1.0)\n",
    "    # Plot the imgs_batch images on the left\n",
    "    axs[i, 0].imshow(imgs_batch[i], cmap='gray')\n",
    "    axs[i, 0].set_title(f\"Batch Image {i+1}\")\n",
    "    axs[i, 0].axis('off')\n",
    "\n",
    "    # Plot the imgs images on the right\n",
    "    axs[i, 1].imshow(imgs[i], cmap='gray')\n",
    "    axs[i, 1].set_title(f\"Image {i+1}\")\n",
    "    axs[i, 1].axis('off')\n",
    "\n",
    "plt.show()"
   ]
  },
  {
   "cell_type": "markdown",
   "metadata": {},
   "source": [
    "### 4 Images, same noise in different regions"
   ]
  },
  {
   "cell_type": "markdown",
   "metadata": {},
   "source": [
    "#### Load the images"
   ]
  },
  {
   "cell_type": "code",
   "execution_count": null,
   "metadata": {},
   "outputs": [],
   "source": [
    "# Load the images\n",
    "img1 = skimage.data.moon()\n",
    "img2 = skimage.data.camera()\n",
    "img3 = rgb2gray(skimage.data.astronaut())\n",
    "img4 = rgb2gray(skimage.data.immunohistochemistry())\n",
    "\n",
    "# Normalize the images\n",
    "img1 = img1 / 255\n",
    "img2 = img2 / 255\n",
    "img3 = img3 / 255\n",
    "img4 = img4 / 255\n",
    "\n",
    "# Store the images in a list\n",
    "imgs = np.array([img1, img2, img3, img4])\n",
    "\n",
    "# Plot the images\n",
    "fig, axs = plt.subplots(2, 2, figsize=(7,7), tight_layout=True)\n",
    "for i, ax in enumerate(axs.flat):\n",
    "    ax.imshow(imgs[i], cmap='gray')\n",
    "    ax.set_title(f\"Target\")\n",
    "    ax.axis('off')\n",
    "plt.show()"
   ]
  },
  {
   "cell_type": "markdown",
   "metadata": {},
   "source": [
    "#### Adding noise to images"
   ]
  },
  {
   "cell_type": "code",
   "execution_count": null,
   "metadata": {},
   "outputs": [],
   "source": [
    "positions = ['up-l', 'up-r', 'low-l', 'low-r']\n",
    "\n",
    "# Apply the curtains_addition function to each image with a different position\n",
    "for i in range(4):\n",
    "    imgs[i] = curtains_addition(imgs[i], position=positions[i])\n",
    "\n",
    "# Plot the images\n",
    "fig, axs = plt.subplots(2, 2, figsize=(7,7), tight_layout=True)\n",
    "for i, ax in enumerate(axs.flat):\n",
    "    ax.imshow(imgs[i], cmap='gray')\n",
    "    ax.set_title(f\"Image {i+1} with {positions[i]} curtains\")\n",
    "    ax.axis('off')\n",
    "plt.show()"
   ]
  },
  {
   "cell_type": "markdown",
   "metadata": {},
   "source": [
    "#### Removing noise from images"
   ]
  },
  {
   "cell_type": "code",
   "execution_count": null,
   "metadata": {},
   "outputs": [],
   "source": [
    "# Create a list to store the results\n",
    "filters = [{'name':'Gabor', 'noise_level':20, 'sigma':(3,40), 'theta':0}]\n",
    "imgs_batch = vsnr2d(imgs, filters, algo=\"cupy\")\n",
    "imgs = vsnr2d(imgs, filters, algo=\"cuda\")\n",
    "\n",
    "# Plot each image\n",
    "fig, axs = plt.subplots(4, 2, figsize=(10,15), tight_layout=True)\n",
    "\n",
    "for i in range(4):\n",
    "    # Plot the imgs_batch images on the left\n",
    "    axs[i, 0].imshow(imgs_batch[i], cmap='gray')\n",
    "    axs[i, 0].set_title(f\"Batch Image {i+1}\")\n",
    "    axs[i, 0].axis('off')\n",
    "\n",
    "    # Plot the imgs images on the right\n",
    "    axs[i, 1].imshow(imgs[i], cmap='gray')\n",
    "    axs[i, 1].set_title(f\"Image {i+1}\")\n",
    "    axs[i, 1].axis('off')\n",
    "\n",
    "plt.show()"
   ]
  }
 ],
 "metadata": {
  "kernelspec": {
   "display_name": "Python 3",
   "language": "python",
   "name": "python3"
  },
  "language_info": {
   "codemirror_mode": {
    "name": "ipython",
    "version": 3
   },
   "file_extension": ".py",
   "mimetype": "text/x-python",
   "name": "python",
   "nbconvert_exporter": "python",
   "pygments_lexer": "ipython3",
   "version": "3.1.-1"
  }
 },
 "nbformat": 4,
 "nbformat_minor": 2
}
