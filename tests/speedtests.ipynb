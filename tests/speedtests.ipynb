{
 "cells": [
  {
   "cell_type": "markdown",
   "metadata": {},
   "source": [
    "## Reading + Loading Benchmark"
   ]
  },
  {
   "cell_type": "markdown",
   "metadata": {},
   "source": [
    "### Reading w/ skimage"
   ]
  },
  {
   "cell_type": "code",
   "execution_count": 1,
   "metadata": {},
   "outputs": [
    {
     "name": "stdout",
     "output_type": "stream",
     "text": [
      "Time taken to read 10 images: 0.08580938912928104 seconds\n"
     ]
    }
   ],
   "source": [
    "# TODO : Clean tests\n",
    "\n",
    "from skimage.io import imread\n",
    "import glob\n",
    "import time\n",
    "\n",
    "image_paths = glob.glob('/nobackup/kp276129/test/1*/slice_010*') # 10 4k tif\n",
    "\n",
    "t1 = time.perf_counter()\n",
    "imgs = [imread(img) for img in image_paths]\n",
    "t2 = time.perf_counter()\n",
    "\n",
    "print(f\"Time taken to read {len(image_paths)} images: {t2 - t1} seconds\")"
   ]
  },
  {
   "cell_type": "markdown",
   "metadata": {},
   "source": [
    "### Reading w/ nvimagecodec"
   ]
  },
  {
   "cell_type": "code",
   "execution_count": 2,
   "metadata": {},
   "outputs": [
    {
     "name": "stdout",
     "output_type": "stream",
     "text": [
      "Time taken to read images: 0.14376681856811047 seconds\n"
     ]
    }
   ],
   "source": [
    "from nvidia import nvimgcodec\n",
    "import time\n",
    "import glob\n",
    "\n",
    "params = nvimgcodec.DecodeParams(color_spec=nvimgcodec.ColorSpec.UNCHANGED, allow_any_depth=True)\n",
    "dec = nvimgcodec.Decoder()\n",
    "\n",
    "t1 = time.perf_counter()\n",
    "imgs=dec.read(glob.glob('/nobackup/kp276129/test/1*/slice_010*'), params)\n",
    "t2 = time.perf_counter()\n",
    "print(f\"Time taken to read images: {t2 - t1} seconds\")\n",
    "# print(img.__cuda_array_interface__)\n",
    "# plt.imshow(img.cpu())"
   ]
  },
  {
   "cell_type": "markdown",
   "metadata": {},
   "source": [
    "### Loading into GPU (CuPy)"
   ]
  },
  {
   "cell_type": "code",
   "execution_count": 3,
   "metadata": {},
   "outputs": [
    {
     "name": "stdout",
     "output_type": "stream",
     "text": [
      "Time taken to convert 10 images to CuPy arrays: 0.06923903711140156 seconds\n"
     ]
    }
   ],
   "source": [
    "import cupy as cp\n",
    "\n",
    "imgs_cp = []\n",
    "\n",
    "# Converting 10 images to CuPy arrays\n",
    "t3 = time.perf_counter()\n",
    "for img in imgs:\n",
    "    imgs_cp.append(cp.asarray(img).squeeze())\n",
    "t4 = time.perf_counter()\n",
    "\n",
    "print(f\"Time taken to convert {len(imgs)} images to CuPy arrays: {t4 - t3} seconds\")"
   ]
  },
  {
   "cell_type": "markdown",
   "metadata": {},
   "source": [
    "### Processing vnsr2d"
   ]
  },
  {
   "cell_type": "code",
   "execution_count": 4,
   "metadata": {},
   "outputs": [
    {
     "name": "stdout",
     "output_type": "stream",
     "text": [
      "Time taken to apply vsnr2d to 10 images: 7.276724968105555 seconds\n"
     ]
    }
   ],
   "source": [
    "import sys\n",
    "sys.path.append('..')\n",
    "from src.pyvsnr import vsnr2d\n",
    "\n",
    "filters=[{'name':'Dirac', 'noise_level':0.35}]\n",
    "\n",
    "# Time to apply vsnr2d to 10 images one by one\n",
    "t5 = time.perf_counter()\n",
    "for img in imgs_cp:\n",
    "    vsnr2d(img, filters)\n",
    "t6 = time.perf_counter()\n",
    "\n",
    "print(f\"Time taken to apply vsnr2d to {len(imgs)} images: {t6 - t5} seconds\")"
   ]
  },
  {
   "cell_type": "markdown",
   "metadata": {},
   "source": [
    "### Pyvsnr Average Time"
   ]
  },
  {
   "cell_type": "code",
   "execution_count": 5,
   "metadata": {},
   "outputs": [
    {
     "name": "stdout",
     "output_type": "stream",
     "text": [
      "Average time to apply vsnr2d: 0.14772265328094364 seconds\n"
     ]
    }
   ],
   "source": [
    "import sys\n",
    "sys.path.append('..')\n",
    "from src.pyvsnr import vsnr2d\n",
    "import cupy as cp\n",
    "import time\n",
    "\n",
    "filters=[{'name':'Dirac', 'noise_level':0.35}]\n",
    "img = cp.random.rand(2048, 2048).astype(cp.float32)\n",
    "nit=200\n",
    "\n",
    "# Calculatin average time for 100 images\n",
    "t1 = time.perf_counter()\n",
    "for i in range(nit):\n",
    "    vsnr2d(img, filters)\n",
    "t2 = time.perf_counter()\n",
    "\n",
    "# print average\n",
    "print(f\"Average time to apply vsnr2d: {(t2-t1)/nit} seconds\")"
   ]
  },
  {
   "cell_type": "markdown",
   "metadata": {},
   "source": [
    "### Pyvsnr Batch Average Time"
   ]
  },
  {
   "cell_type": "code",
   "execution_count": 7,
   "metadata": {},
   "outputs": [
    {
     "name": "stdout",
     "output_type": "stream",
     "text": [
      "Average time to apply vsnr2d_batch: 0.12653447344899177 seconds\n"
     ]
    }
   ],
   "source": [
    "import sys\n",
    "sys.path.append('..')\n",
    "from pyvsnr.vsnr2d import vsnr2d\n",
    "import cupy as cp\n",
    "import time\n",
    "\n",
    "\n",
    "def batch_generator(images, batch_size):\n",
    "    for i in range(0, len(images), batch_size):\n",
    "        yield images[i:i+batch_size]\n",
    "\n",
    "\n",
    "nb_img = 200\n",
    "batch_size = 10\n",
    "filters=[{'name':'Dirac', 'noise_level':0.35}]\n",
    "imgs = cp.random.rand(nb_img, 2048, 2048).astype(cp.float32)\n",
    "\n",
    "t1 = time.perf_counter()\n",
    "for batch in batch_generator(imgs, batch_size):\n",
    "    vsnr2d(batch, filters)\n",
    "t2 = time.perf_counter()\n",
    "\n",
    "print(f\"Average time to apply vsnr2d_batch: {(t2-t1)/nb_img} seconds\")\n"
   ]
  },
  {
   "cell_type": "markdown",
   "metadata": {},
   "source": [
    "### Time Distribution"
   ]
  },
  {
   "cell_type": "code",
   "execution_count": 8,
   "metadata": {},
   "outputs": [
    {
     "data": {
      "image/png": "[encoded data removed]",
      "text/plain": [
       "<Figure size 640x480 with 1 Axes>"
      ]
     },
     "metadata": {},
     "output_type": "display_data"
    }
   ],
   "source": [
    "import matplotlib.pyplot as plt\n",
    "\n",
    "activities = ['Reading', 'Loading', 'Processing']\n",
    "\n",
    "time_taken = [t2-t1, t4-t3, t6-t5]\n",
    "\n",
    "# Create a pie chart\n",
    "plt.pie(time_taken, labels=activities, autopct='%1.1f%%', startangle=140)\n",
    "\n",
    "# Add title and legend\n",
    "plt.title('Time Distribution')\n",
    "plt.legend(activities, loc=\"best\")\n",
    "\n",
    "# Display the plot\n",
    "plt.show()"
   ]
  },
  {
   "cell_type": "markdown",
   "metadata": {},
   "source": [
    "## Profiling"
   ]
  },
  {
   "cell_type": "markdown",
   "metadata": {},
   "source": [
    "### Pyvsnr VRAM Usage"
   ]
  },
  {
   "cell_type": "code",
   "execution_count": 9,
   "metadata": {},
   "outputs": [],
   "source": [
    "import sys\n",
    "import cupy as cp\n",
    "sys.path.append('..')\n",
    "from src.pyvsnr import vsnr2d\n",
    "\n",
    "filters=[{'name':'Dirac', 'noise_level':0.35}]\n",
    "nb_img = 1\n",
    "\n",
    "for _ in range(nb_img):\n",
    "    img = cp.random.rand(4224, 4224)\n",
    "    vsnr2d(img, filters)"
   ]
  },
  {
   "cell_type": "markdown",
   "metadata": {},
   "source": [
    "### Pyvsnr VRAM Profiling"
   ]
  },
  {
   "cell_type": "code",
   "execution_count": 10,
   "metadata": {},
   "outputs": [
    {
     "name": "stdout",
     "output_type": "stream",
     "text": [
      "\n"
     ]
    },
    {
     "name": "stdout",
     "output_type": "stream",
     "text": [
      "Filename: /home/kp276129/Documents/pyvsnr/tests/../src/pyvsnr/vsnr2d.py\n",
      "\n",
      "Line #    Mem usage    Increment  Occurrences   Line Contents\n",
      "=============================================================\n",
      "   343    489.2 MiB    489.2 MiB           1   def vsnr2d(\n",
      "   344                                             imgs,\n",
      "   345                                             filters,\n",
      "   346                                             maxit=20,\n",
      "   347                                             algo='auto',\n",
      "   348                                             beta=10.0,\n",
      "   349                                             norm=True,\n",
      "   350                                             cvg_threshold=0,\n",
      "   351                                             return_cvg=False,\n",
      "   352                                         ):\n",
      "   353                                             r\"\"\"\n",
      "   354                                             Calculate the corrected image using the 2D-VSNR algorithm in libvsnr2d.dll\n",
      "   355                                         \n",
      "   356                                             Notes\n",
      "   357                                             -----\n",
      "   358                                             To ease code comparison with the original onde, most of the variable names\n",
      "   359                                             have been kept as nearly as possible during the code transcription.\n",
      "   360                                             Accordingly, PEP8 formatting compatibility may not be always respected.\n",
      "   361                                         \n",
      "   362                                             Parameters\n",
      "   363                                             ----------\n",
      "   364                                             imgs: numpy.ndarray((batch_size, n0, n1))\n",
      "   365                                                 The images to process\n",
      "   366                                             filters: list of dicts\n",
      "   367                                                 Dictionaries that contains filters definition.\n",
      "   368                                                 Example For a 'Dirac' filter:\n",
      "   369                                                 - filter={'name':'Dirac', 'noise_level':10}\n",
      "   370                                                 Example For a 'Gabor' filter:\n",
      "   371                                                 - filter={'name':'Gabor', 'noise_level':100, 'sigma':(1000,0.1), 'theta':45}\n",
      "   372                                                 For further informations, see :\n",
      "   373                                                 https://www.math.univ-toulouse.fr/~weiss/Codes/VSNR/Documentation_VSNR_V2_Fiji.pdf\n",
      "   374                                         \n",
      "   375                                             maxit: int, optional\n",
      "   376                                                 Number of iterations in the denoising processing\n",
      "   377                                             algo: str, optional\n",
      "   378                                                 The algorithm to use for the computation. Can be 'cupy', 'cuda', or 'numpy'.\n",
      "   379                                                 If 'auto', the best available algorithm will be used.\n",
      "   380                                             beta: float\n",
      "   381                                                 The regularization parameter in the VSNR model. Controls the trade-off between the data\n",
      "   382                                                 fidelity term and the regularization term. A higher beta value gives more weight to the\n",
      "   383                                                 regularization term, which encourages sparser solutions but may result in more denoising\n",
      "   384                                                 (and potentially more distortion). A lower beta value gives more weight to the data fidelity\n",
      "   385                                                 term, which encourages solutions that are closer to the original image but may result in\n",
      "   386                                                 less denoising.\n",
      "   387                                             norm: bool, optional\n",
      "   388                                                 If True, the image is normalized before processing and the output\n",
      "   389                                                 image is renormalized to the original range\n",
      "   390                                             return_cvg: bool, optional\n",
      "   391                                                 If True, the function returns the convergence criterion for each iteration\n",
      "   392                                         \n",
      "   393                                             Returns\n",
      "   394                                             -------\n",
      "   395                                             imgs_corr: numpy.ndarray((batch_size, n0, n1))\n",
      "   396                                                 The corrected images\n",
      "   397                                             \"\"\"\n",
      "   398                                         \n",
      "   399    489.2 MiB      0.0 MiB           1       if algo == 'auto':\n",
      "   400    489.2 MiB      0.0 MiB           1           if CUPY_AVAILABLE:\n",
      "   401    489.2 MiB      0.0 MiB           1               algo = 'cupy'\n",
      "   402                                                 else:\n",
      "   403                                                     algo = 'numpy'\n",
      "   404                                         \n",
      "   405                                             # TODO : add verbose mode to print used algo\n",
      "   406                                             # TODO : keep old vsnr2d as \"from pyvsnr import vsnr2d_single\" for tests ? \n",
      "   407                                             \n",
      "   408    489.2 MiB      0.0 MiB           1       if algo == 'cupy':\n",
      "   409    625.4 MiB    136.2 MiB           1           return vsnr2d_py(imgs, filters, maxit=maxit, xp=cp, beta=beta, norm=norm, cvg_threshold=cvg_threshold, return_cvg=return_cvg)\n",
      "   410                                             \n",
      "   411                                             elif algo == 'numpy':\n",
      "   412                                                 return vsnr2d_py(imgs, filters, maxit=maxit, xp=np, beta=beta, norm=norm, cvg_threshold=cvg_threshold, return_cvg=return_cvg)\n",
      "   413                                             \n",
      "   414                                             else:\n",
      "   415                                                 raise ValueError(\"algo must be 'cupy', or 'numpy'\")"
     ]
    }
   ],
   "source": [
    "%load_ext memory_profiler\n",
    "import sys\n",
    "sys.path.append('..')\n",
    "from src.pyvsnr import vsnr2d\n",
    "import cupy as cp\n",
    "\n",
    "%mprun -f vsnr2d vsnr2d(cp.random.rand(4224, 4224), [{'name':'Dirac', 'noise_level':0.35}])"
   ]
  },
  {
   "cell_type": "markdown",
   "metadata": {},
   "source": [
    "### VRAM Usage for Batch Processing FFT"
   ]
  },
  {
   "cell_type": "code",
   "execution_count": 11,
   "metadata": {},
   "outputs": [
    {
     "name": "stdout",
     "output_type": "stream",
     "text": [
      "748.0\n",
      "748.0\n",
      "749.0\n",
      "748.7333333333333\n"
     ]
    },
    {
     "data": {
      "text/plain": [
       "[<matplotlib.lines.Line2D at 0x7f8d2cfc9120>]"
      ]
     },
     "execution_count": 11,
     "metadata": {},
     "output_type": "execute_result"
    },
    {
     "data": {
      "image/png": "[encoded data removed]",
      "text/plain": [
       "<Figure size 640x480 with 1 Axes>"
      ]
     },
     "metadata": {},
     "output_type": "display_data"
    }
   ],
   "source": [
    "import cupy as cp\n",
    "import matplotlib.pyplot as plt \n",
    "\n",
    "def image_generator(nb_img, batch_size):\n",
    "    for i in range(0, nb_img, batch_size):\n",
    "        batch_imgs = cp.random.rand(batch_size, 4224, 4224, dtype=cp.float32)\n",
    "        yield batch_imgs\n",
    "\n",
    "batch_size = 2\n",
    "nb_img = 100\n",
    "\n",
    "# Processing simple FFT\n",
    "for batch in image_generator(nb_img, batch_size):\n",
    "    imgs_corr = cp.fft.fft2(batch)\n",
    "\n",
    "batch_sizes = [1,2,10,20,50]\n",
    "vram_usage = [1215,1963,7947,15437,37899]\n",
    "\n",
    "# Calculate VRAM usage per image\n",
    "for i in range(1, len(batch_sizes)):\n",
    "    vram_per_image = (vram_usage[i] - vram_usage[i-1]) / (batch_sizes[i] - batch_sizes[i-1])\n",
    "    print(vram_per_image)\n",
    "\n",
    "plt.xlabel('Batch Size')\n",
    "plt.ylabel('VRAM Usage (MB)')\n",
    "plt.plot(batch_sizes, vram_usage)"
   ]
  },
  {
   "cell_type": "markdown",
   "metadata": {},
   "source": [
    "### Pyvsnr Profiling"
   ]
  },
  {
   "cell_type": "code",
   "execution_count": 12,
   "metadata": {},
   "outputs": [
    {
     "name": "stdout",
     "output_type": "stream",
     "text": [
      "         6978 function calls in 0.858 seconds\n",
      "\n",
      "   Ordered by: internal time\n",
      "\n",
      "   ncalls  tottime  percall  cumtime  percall filename:lineno(function)\n",
      "        1    0.645    0.645    0.700    0.700 /home/kp276129/Documents/pyvsnr/tests/../src/pyvsnr/vsnr2d_single.py:202(vsnr_admm)\n",
      "        9    0.133    0.015    0.133    0.015 {method 'load' of 'cupy.cuda.function.Module' objects}\n",
      "        1    0.039    0.039    0.039    0.039 {method 'get' of 'cupy._core.core._ndarray_base' objects}\n",
      "       18    0.011    0.001    0.011    0.001 {built-in method posix.stat}\n",
      "        1    0.006    0.006    0.006    0.006 {built-in method builtins.max}\n",
      "       20    0.005    0.000    0.005    0.000 /home/kp276129/Documents/pyvsnr/tests/../src/pyvsnr/vsnr2d_single.py:80(update_y)\n",
      "        9    0.002    0.000    0.002    0.000 {built-in method io.open}\n",
      "       92    0.002    0.000    0.009    0.000 {method 'flatten' of 'cupy._core.core._ndarray_base' objects}\n",
      "       91    0.002    0.000    0.002    0.000 {method 'fft' of 'cupy.cuda.cufft.PlanNd' objects}\n",
      "       91    0.002    0.000    0.002    0.000 /nobackup/kp276129/envs/env_cuda/lib/python3.10/site-packages/cupy/fft/_fft.py:304(_get_cufft_plan_nd)\n",
      "       18    0.001    0.000    0.001    0.000 {built-in method _hashlib.openssl_sha1}\n",
      "       41    0.001    0.000    0.001    0.000 {method 'max' of 'cupy._core.core._ndarray_base' objects}\n",
      "       44    0.001    0.000    0.001    0.000 {method 'astype' of 'cupy._core.core._ndarray_base' objects}\n",
      "        3    0.001    0.000    0.001    0.000 {method 'min' of 'cupy._core.core._ndarray_base' objects}\n",
      "       91    0.001    0.000    0.007    0.000 /nobackup/kp276129/envs/env_cuda/lib/python3.10/site-packages/cupy/fft/_fft.py:572(_fftn)\n",
      "        1    0.000    0.000    0.020    0.020 /home/kp276129/Documents/pyvsnr/tests/../src/pyvsnr/vsnr2d_single.py:142(create_filters)\n",
      "       91    0.000    0.000    0.005    0.000 /nobackup/kp276129/envs/env_cuda/lib/python3.10/site-packages/cupy/fft/_fft.py:484(_exec_fftn)\n",
      "       91    0.000    0.000    0.000    0.000 /nobackup/kp276129/envs/env_cuda/lib/python3.10/site-packages/cupy/_creation/basic.py:7(empty)\n",
      "      273    0.000    0.000    0.001    0.000 /nobackup/kp276129/envs/env_cuda/lib/python3.10/site-packages/cupy/fft/_fft.py:259(_prep_fftn_axes)\n",
      "        1    0.000    0.000    0.858    0.858 /home/kp276129/Documents/pyvsnr/tests/../src/pyvsnr/vsnr2d_single.py:305(vsnr2d_py)\n",
      "        9    0.000    0.000    0.148    0.016 /nobackup/kp276129/envs/env_cuda/lib/python3.10/site-packages/cupy/cuda/compiler.py:502(_compile_with_cache_cuda)\n",
      "       91    0.000    0.000    0.001    0.000 /nobackup/kp276129/envs/env_cuda/lib/python3.10/site-packages/cupy/fft/_fft.py:623(_default_fft_func)\n",
      "      182    0.000    0.000    0.000    0.000 /nobackup/kp276129/envs/env_cuda/lib/python3.10/site-packages/cupy/fft/_fft.py:295(_nd_plan_is_possible)\n",
      "       92    0.000    0.000    0.000    0.000 {method 'reshape' of 'cupy._core.core._ndarray_base' objects}\n",
      "      546    0.000    0.000    0.000    0.000 {built-in method _functools.reduce}\n",
      "       91    0.000    0.000    0.001    0.000 {method 'get_output_array' of 'cupy.cuda.cufft.PlanNd' objects}\n",
      "       91    0.000    0.000    0.001    0.000 /nobackup/kp276129/envs/env_cuda/lib/python3.10/site-packages/cupy/fft/_fft.py:34(_convert_dtype)\n",
      "        2    0.000    0.000    0.000    0.000 {method 'argmax' of 'cupy._core.core._ndarray_base' objects}\n",
      "        1    0.000    0.000    0.031    0.031 /home/kp276129/Documents/pyvsnr/tests/../src/pyvsnr/vsnr2d_single.py:23(compute_phi)\n",
      "      364    0.000    0.000    0.000    0.000 /nobackup/kp276129/envs/env_cuda/lib/python3.10/site-packages/cupy/fft/_fft.py:300(<genexpr>)\n",
      "       45    0.000    0.000    0.000    0.000 {method 'encode' of 'str' objects}\n",
      "      273    0.000    0.000    0.000    0.000 /nobackup/kp276129/envs/env_cuda/lib/python3.10/site-packages/cupy/fft/_fft.py:283(<listcomp>)\n",
      "       91    0.000    0.000    0.000    0.000 {method 'get' of 'cupy.fft._cache.PlanCache' objects}\n",
      "       91    0.000    0.000    0.000    0.000 /nobackup/kp276129/envs/env_cuda/lib/python3.10/site-packages/cupy/fft/_fft.py:64(_convert_fft_type)\n",
      "       27    0.000    0.000    0.000    0.000 /nobackup/kp276129/envs/env_cuda/lib/python3.10/posixpath.py:71(join)\n",
      "      182    0.000    0.000    0.000    0.000 {built-in method builtins.all}\n",
      "        2    0.000    0.000    0.000    0.000 /home/kp276129/Documents/pyvsnr/tests/../src/pyvsnr/vsnr2d_single.py:99(setd1)\n",
      "        9    0.000    0.000    0.000    0.000 {method 'sub' of 're.Pattern' objects}\n",
      "       32    0.000    0.000    0.000    0.000 /nobackup/kp276129/envs/env_cuda/lib/python3.10/site-packages/numpy/core/_dtype.py:346(_name_get)\n",
      "       32    0.000    0.000    0.000    0.000 /nobackup/kp276129/envs/env_cuda/lib/python3.10/site-packages/numpy/core/_dtype.py:34(__str__)\n",
      "       15    0.000    0.000    0.000    0.000 {method 'memset_async' of 'cupy.cuda.memory.MemoryPointer' objects}\n",
      "      273    0.000    0.000    0.000    0.000 {built-in method builtins.sorted}\n",
      "       13    0.000    0.000    0.000    0.000 /nobackup/kp276129/envs/env_cuda/lib/python3.10/site-packages/cupy/_creation/basic.py:196(zeros)\n",
      "        1    0.000    0.000    0.720    0.720 /home/kp276129/Documents/pyvsnr/tests/../src/pyvsnr/vsnr2d_single.py:117(compute_vsnr)\n",
      "        2    0.000    0.000    0.000    0.000 /home/kp276129/Documents/pyvsnr/tests/../src/pyvsnr/vsnr2d_single.py:108(setd2)\n",
      "        2    0.000    0.000    0.000    0.000 {built-in method builtins.compile}\n",
      "       91    0.000    0.000    0.000    0.000 /nobackup/kp276129/envs/env_cuda/lib/python3.10/site-packages/cupy/fft/_fft.py:561(<listcomp>)\n",
      "        1    0.000    0.000    0.000    0.000 /home/kp276129/Documents/pyvsnr/tests/../src/pyvsnr/vsnr2d_single.py:39(update_psi)\n",
      "      182    0.000    0.000    0.000    0.000 {built-in method cupy.cuda.cufft.get_current_plan}\n",
      "       21    0.000    0.000    0.000    0.000 /nobackup/kp276129/envs/env_cuda/lib/python3.10/site-packages/numpy/core/_internal.py:250(__init__)\n",
      "       91    0.000    0.000    0.000    0.000 {built-in method cupy._core.internal.prod}\n",
      "        9    0.000    0.000    0.000    0.000 {method 'read' of '_io.BufferedReader' objects}\n",
      "       20    0.000    0.000    0.000    0.000 /nobackup/kp276129/envs/env_cuda/lib/python3.10/site-packages/numpy/core/getlimits.py:484(__new__)\n",
      "      348    0.000    0.000    0.000    0.000 {built-in method builtins.isinstance}\n",
      "      270    0.000    0.000    0.000    0.000 /nobackup/kp276129/envs/env_cuda/lib/python3.10/site-packages/numpy/core/multiarray.py:618(min_scalar_type)\n",
      "       47    0.000    0.000    0.005    0.000 /nobackup/kp276129/envs/env_cuda/lib/python3.10/site-packages/cupy/fft/_fft.py:706(fft2)\n",
      "      555    0.000    0.000    0.000    0.000 {built-in method builtins.len}\n",
      "       91    0.000    0.000    0.000    0.000 {built-in method cupy.fft._cache.get_plan_cache}\n",
      "       63    0.000    0.000    0.000    0.000 /nobackup/kp276129/envs/env_cuda/lib/python3.10/string.py:110(convert)\n",
      "       27    0.000    0.000    0.000    0.000 /nobackup/kp276129/envs/env_cuda/lib/python3.10/os.py:675(__getitem__)\n",
      "       38    0.000    0.000    0.001    0.000 /nobackup/kp276129/envs/env_cuda/lib/python3.10/site-packages/cupy/_statistics/order.py:47(amax)\n",
      "       44    0.000    0.000    0.003    0.000 /nobackup/kp276129/envs/env_cuda/lib/python3.10/site-packages/cupy/fft/_fft.py:730(ifft2)\n",
      "       91    0.000    0.000    0.000    0.000 {built-in method cupy.fft._callback.get_current_callback_manager}\n",
      "       64    0.000    0.000    0.000    0.000 /nobackup/kp276129/envs/env_cuda/lib/python3.10/site-packages/numpy/core/numerictypes.py:283(issubclass_)\n",
      "       32    0.000    0.000    0.000    0.000 /nobackup/kp276129/envs/env_cuda/lib/python3.10/site-packages/numpy/core/numerictypes.py:357(issubdtype)\n",
      "        9    0.000    0.000    0.148    0.016 /nobackup/kp276129/envs/env_cuda/lib/python3.10/site-packages/cupy/cuda/compiler.py:471(_compile_module_with_cache)\n",
      "        9    0.000    0.000    0.000    0.000 {method '__exit__' of '_io._IOBase' objects}\n",
      "        2    0.000    0.000    0.000    0.000 {method 'copy' of 'cupy._core.core._ndarray_base' objects}\n",
      "       32    0.000    0.000    0.000    0.000 /nobackup/kp276129/envs/env_cuda/lib/python3.10/site-packages/numpy/core/_dtype.py:330(_name_includes_bit_suffix)\n",
      "       18    0.000    0.000    0.001    0.000 /nobackup/kp276129/envs/env_cuda/lib/python3.10/site-packages/cupy/cuda/compiler.py:269(_hash_hexdigest)\n",
      "        1    0.000    0.000    0.000    0.000 {method 'clip' of 'cupy._core.core._ndarray_base' objects}\n",
      "        1    0.000    0.000    0.000    0.000 /nobackup/kp276129/envs/env_cuda/lib/python3.10/site-packages/cupy/linalg/_norms.py:31(norm)\n",
      "        1    0.000    0.000    0.000    0.000 {method 'sum' of 'cupy._core.core._ndarray_base' objects}\n",
      "       27    0.000    0.000    0.000    0.000 /nobackup/kp276129/envs/env_cuda/lib/python3.10/_collections_abc.py:821(get)\n",
      "       91    0.000    0.000    0.000    0.000 /nobackup/kp276129/envs/env_cuda/lib/python3.10/site-packages/cupy/fft/_fft.py:471(_get_fftn_out_size)\n",
      "       91    0.000    0.000    0.000    0.000 /nobackup/kp276129/envs/env_cuda/lib/python3.10/site-packages/cupy/fft/_fft.py:372(<listcomp>)\n",
      "      161    0.000    0.000    0.000    0.000 {built-in method builtins.issubclass}\n",
      "        2    0.000    0.000    0.000    0.000 {built-in method cupy._core.core.array}\n",
      "        2    0.000    0.000    0.859    0.429 /nobackup/kp276129/envs/env_cuda/lib/python3.10/site-packages/IPython/core/interactiveshell.py:3514(run_code)\n",
      "       18    0.000    0.000    0.000    0.000 {method 'hexdigest' of '_hashlib.HASH' objects}\n",
      "        9    0.000    0.000    0.000    0.000 /nobackup/kp276129/envs/env_cuda/lib/python3.10/string.py:104(substitute)\n",
      "       49    0.000    0.000    0.000    0.000 {method 'get' of 'dict' objects}\n",
      "      126    0.000    0.000    0.000    0.000 {method 'group' of 're.Match' objects}\n",
      "        2    0.000    0.000    0.000    0.000 /nobackup/kp276129/envs/env_cuda/lib/python3.10/site-packages/cupy/_math/arithmetic.py:76(real)\n",
      "        1    0.000    0.000    0.000    0.000 /home/kp276129/Documents/pyvsnr/tests/../src/pyvsnr/vsnr2d_single.py:46(create_dirac)\n",
      "       91    0.000    0.000    0.000    0.000 /nobackup/kp276129/envs/env_cuda/lib/python3.10/site-packages/cupy/fft/_fft.py:41(_cook_shape)\n",
      "       27    0.000    0.000    0.000    0.000 /nobackup/kp276129/envs/env_cuda/lib/python3.10/posixpath.py:41(_get_sep)\n",
      "       27    0.000    0.000    0.000    0.000 /nobackup/kp276129/envs/env_cuda/lib/python3.10/os.py:755(encode)\n",
      "       18    0.000    0.000    0.000    0.000 /nobackup/kp276129/envs/env_cuda/lib/python3.10/site-packages/cupy/cuda/compiler.py:218(_get_bool_env_variable)\n",
      "        2    0.000    0.000    0.000    0.000 /nobackup/kp276129/envs/env_cuda/lib/python3.10/site-packages/cupy/_creation/basic.py:216(zeros_like)\n",
      "        9    0.000    0.000    0.000    0.000 /nobackup/kp276129/envs/env_cuda/lib/python3.10/genericpath.py:39(isdir)\n",
      "       32    0.000    0.000    0.000    0.000 {method 'format' of 'str' objects}\n",
      "        2    0.000    0.000    0.000    0.000 /nobackup/kp276129/envs/env_cuda/lib/python3.10/site-packages/cupy/_creation/basic.py:25(_new_like_order_and_strides)\n",
      "        2    0.000    0.000    0.000    0.000 /nobackup/kp276129/envs/env_cuda/lib/python3.10/codeop.py:117(__call__)\n",
      "       42    0.000    0.000    0.000    0.000 {built-in method cupy._core._fusion_thread_local.is_fusing}\n",
      "       21    0.000    0.000    0.000    0.000 /nobackup/kp276129/envs/env_cuda/lib/python3.10/site-packages/cupy/_core/syncdetect.py:36(_declare_synchronize)\n",
      "       15    0.000    0.000    0.000    0.000 /nobackup/kp276129/envs/env_cuda/lib/python3.10/site-packages/numpy/core/numeric.py:1855(isscalar)\n",
      "       93    0.000    0.000    0.000    0.000 /nobackup/kp276129/envs/env_cuda/lib/python3.10/site-packages/numpy/core/multiarray.py:503(can_cast)\n",
      "        9    0.000    0.000    0.011    0.001 /nobackup/kp276129/envs/env_cuda/lib/python3.10/genericpath.py:16(exists)\n",
      "       21    0.000    0.000    0.000    0.000 /nobackup/kp276129/envs/env_cuda/lib/python3.10/site-packages/cupy/_core/syncdetect.py:27(_is_allowed)\n",
      "        1    0.000    0.000    0.858    0.858 /home/kp276129/Documents/pyvsnr/tests/../src/pyvsnr/vsnr2d_single.py:355(vsnr2d_single)\n",
      "        2    0.000    0.000    0.000    0.000 /nobackup/kp276129/envs/env_cuda/lib/python3.10/site-packages/traitlets/traitlets.py:677(__get__)\n",
      "       21    0.000    0.000    0.000    0.000 /nobackup/kp276129/envs/env_cuda/lib/python3.10/site-packages/numpy/core/_internal.py:304(data)\n",
      "       45    0.000    0.000    0.000    0.000 {method 'startswith' of 'str' objects}\n",
      "        2    0.000    0.000    0.000    0.000 /nobackup/kp276129/envs/env_cuda/lib/python3.10/contextlib.py:102(__init__)\n",
      "       32    0.000    0.000    0.000    0.000 /nobackup/kp276129/envs/env_cuda/lib/python3.10/site-packages/numpy/core/_dtype.py:24(_kind_name)\n",
      "        2    0.000    0.000    0.000    0.000 /nobackup/kp276129/envs/env_cuda/lib/python3.10/site-packages/traitlets/traitlets.py:630(get)\n",
      "       45    0.000    0.000    0.000    0.000 {method 'endswith' of 'str' objects}\n",
      "        1    0.000    0.000    0.000    0.000 /tmp/ipykernel_303998/3423945202.py:1(<module>)\n",
      "        9    0.000    0.000    0.000    0.000 /nobackup/kp276129/envs/env_cuda/lib/python3.10/string.py:87(__init__)\n",
      "        9    0.000    0.000    0.000    0.000 /nobackup/kp276129/envs/env_cuda/lib/python3.10/site-packages/cupy/cuda/compiler.py:455(get_cache_dir)\n",
      "        2    0.000    0.000    0.000    0.000 /nobackup/kp276129/envs/env_cuda/lib/python3.10/contextlib.py:279(helper)\n",
      "        4    0.000    0.000    0.000    0.000 /nobackup/kp276129/envs/env_cuda/lib/python3.10/site-packages/IPython/core/compilerop.py:180(extra_flags)\n",
      "        2    0.000    0.000    0.858    0.429 {built-in method builtins.exec}\n",
      "        2    0.000    0.000    0.000    0.000 /nobackup/kp276129/envs/env_cuda/lib/python3.10/site-packages/IPython/core/interactiveshell.py:3466(compare)\n",
      "       19    0.000    0.000    0.000    0.000 {method 'append' of 'list' objects}\n",
      "       27    0.000    0.000    0.000    0.000 {built-in method posix.fspath}\n",
      "        2    0.000    0.000    0.000    0.000 /nobackup/kp276129/envs/env_cuda/lib/python3.10/contextlib.py:139(__exit__)\n",
      "        1    0.000    0.000    0.000    0.000 /nobackup/kp276129/envs/env_cuda/lib/python3.10/site-packages/cupy/_math/misc.py:147(clip)\n",
      "        4    0.000    0.000    0.000    0.000 {built-in method _abc._abc_instancecheck}\n",
      "        2    0.000    0.000    0.000    0.000 /nobackup/kp276129/envs/env_cuda/lib/python3.10/contextlib.py:130(__enter__)\n",
      "        2    0.000    0.000    0.000    0.000 /nobackup/kp276129/envs/env_cuda/lib/python3.10/site-packages/IPython/core/interactiveshell.py:1255(user_global_ns)\n",
      "        4    0.000    0.000    0.000    0.000 {built-in method builtins.getattr}\n",
      "        1    0.000    0.000    0.000    0.000 /nobackup/kp276129/envs/env_cuda/lib/python3.10/site-packages/cupy/_creation/from_data.py:111(copy)\n",
      "        9    0.000    0.000    0.000    0.000 {built-in method _stat.S_ISDIR}\n",
      "        9    0.000    0.000    0.000    0.000 /nobackup/kp276129/envs/env_cuda/lib/python3.10/site-packages/cupy/cuda/compiler.py:114(_get_nvrtc_version)\n",
      "        2    0.000    0.000    0.000    0.000 /nobackup/kp276129/envs/env_cuda/lib/python3.10/site-packages/cupy/_sorting/search.py:10(argmax)\n",
      "        4    0.000    0.000    0.000    0.000 /nobackup/kp276129/envs/env_cuda/lib/python3.10/abc.py:117(__instancecheck__)\n",
      "        4    0.000    0.000    0.000    0.000 {built-in method builtins.next}\n",
      "        1    0.000    0.000    0.000    0.000 /nobackup/kp276129/envs/env_cuda/lib/python3.10/site-packages/cupy/_creation/from_data.py:49(asarray)\n",
      "        4    0.000    0.000    0.000    0.000 /nobackup/kp276129/envs/env_cuda/lib/python3.10/typing.py:1737(cast)\n",
      "        1    0.000    0.000    0.000    0.000 /nobackup/kp276129/envs/env_cuda/lib/python3.10/site-packages/cupy/_creation/from_data.py:7(array)\n",
      "        2    0.000    0.000    0.000    0.000 {built-in method cupy._core.internal._update_order_char}\n",
      "        1    0.000    0.000    0.000    0.000 {method 'disable' of '_lsprof.Profiler' objects}\n",
      "        2    0.000    0.000    0.000    0.000 {method 'upper' of 'str' objects}\n",
      "        2    0.000    0.000    0.000    0.000 {built-in method builtins.ord}\n",
      "        2    0.000    0.000    0.000    0.000 {built-in method builtins.chr}\n",
      "\n",
      "\n",
      "\n"
     ]
    }
   ],
   "source": [
    "import sys\n",
    "import pstats\n",
    "import cProfile\n",
    "import io\n",
    "\n",
    "sys.path.append('../')\n",
    "import src.pyvsnr as pyvsnr\n",
    "import cupy as cp\n",
    "\n",
    "img = cp.random.rand(4200, 4200)\n",
    "filters=[{'name':'Dirac', 'noise_level':0.35}]\n",
    "\n",
    "pr = cProfile.Profile()\n",
    "pr.enable()\n",
    "\n",
    "pyvsnr.vsnr2d_single(img, filters)\n",
    "\n",
    "pr.disable()\n",
    "s = io.StringIO()\n",
    "ps = pstats.Stats(pr, stream=s).sort_stats('time')\n",
    "ps.print_stats()\n",
    "\n",
    "print(s.getvalue())"
   ]
  },
  {
   "cell_type": "markdown",
   "metadata": {},
   "source": [
    "## Others"
   ]
  },
  {
   "cell_type": "markdown",
   "metadata": {},
   "source": [
    "### Batch vs Individual Processing"
   ]
  },
  {
   "cell_type": "markdown",
   "metadata": {},
   "source": [
    "#### Batch"
   ]
  },
  {
   "cell_type": "code",
   "execution_count": 13,
   "metadata": {},
   "outputs": [
    {
     "name": "stdout",
     "output_type": "stream",
     "text": [
      "Time taken to apply FFT to 200 images in batches: 0.011978868395090103 seconds\n"
     ]
    }
   ],
   "source": [
    "import time\n",
    "import cupy as cp\n",
    "\n",
    "def image_generator(nb_img, batch_size):\n",
    "    for i in range(0, nb_img, batch_size):\n",
    "        batch_imgs = cp.random.rand(batch_size, 4224, 4224, dtype=cp.float32)\n",
    "\n",
    "        # cp.fft.config.get_plan_cache().clear()\n",
    "        # cp.get_default_memory_pool().free_all_blocks()\n",
    "        # cp.get_default_pinned_memory_pool().free_all_blocks()\n",
    "\n",
    "        yield batch_imgs\n",
    "\n",
    "batch_size = 20\n",
    "nb_img = 200\n",
    "\n",
    "# Need to measure one method at a time otherwise the first is faster\n",
    "\n",
    "\n",
    "# Initialize an empty array for the results\n",
    "# imgs_corr = cp.zeros((nb_img, 4224, 4224), dtype=cp.complex64)\n",
    "\n",
    "t7 = time.perf_counter()\n",
    "# Process the images in batches\n",
    "for batch in image_generator(nb_img, batch_size):\n",
    "    # imgs_corr[i*batch_size:(i+1)*batch_size] = cp.fft.fft2(batch)\n",
    "    cp.fft.fft2(batch)\n",
    "t8 = time.perf_counter()\n",
    "\n",
    "print(f\"Time taken to apply FFT to {nb_img} images in batches: {t8 - t7} seconds\")"
   ]
  },
  {
   "cell_type": "markdown",
   "metadata": {},
   "source": [
    "#### Individual"
   ]
  },
  {
   "cell_type": "code",
   "execution_count": 14,
   "metadata": {},
   "outputs": [
    {
     "name": "stdout",
     "output_type": "stream",
     "text": [
      "Time taken to apply FFT to 200 images individually: 0.43631675466895103 seconds\n"
     ]
    }
   ],
   "source": [
    "import time\n",
    "import cupy as cp\n",
    "\n",
    "nb_img = 200\n",
    "img = cp.random.rand(4224, 4224, dtype=cp.float32)\n",
    "\n",
    "t9 = time.perf_counter()\n",
    "# Process the images individually\n",
    "for i in range(nb_img):\n",
    "        # imgs_corr_2[i*batch_size+j] = cp.fft.fft2(img)\n",
    "        cp.fft.fft2(img)\n",
    "t10 = time.perf_counter()\n",
    "\n",
    "print(f\"Time taken to apply FFT to {nb_img} images individually: {t10 - t9} seconds\")"
   ]
  },
  {
   "cell_type": "markdown",
   "metadata": {},
   "source": [
    "### Testing different batch sizes for Pyvsnr"
   ]
  },
  {
   "cell_type": "code",
   "execution_count": 16,
   "metadata": {},
   "outputs": [
    {
     "data": {
      "text/plain": [
       "[<matplotlib.lines.Line2D at 0x7f8d2f4b31f0>]"
      ]
     },
     "execution_count": 16,
     "metadata": {},
     "output_type": "execute_result"
    },
    {
     "data": {
      "image/png": "[encoded data removed]",
      "text/plain": [
       "<Figure size 640x480 with 1 Axes>"
      ]
     },
     "metadata": {},
     "output_type": "display_data"
    }
   ],
   "source": [
    "import sys\n",
    "sys.path.append('..')\n",
    "\n",
    "from pyvsnr.vsnr2d import vsnr2d\n",
    "import matplotlib.pyplot as plt   \n",
    "import cupy as cp\n",
    "import time\n",
    "\n",
    "def batch_generator(images, batch_size):\n",
    "    for i in range(0, len(images), batch_size):\n",
    "        yield cp.stack(images[i:i+batch_size])\n",
    "\n",
    "filters=[{'name':'Dirac', 'noise_level':0.35}]\n",
    "img = cp.random.rand(2048, 2048).astype(cp.float32)\n",
    "\n",
    "batch_sizes = [5,10,15,20,25]\n",
    "times = []\n",
    "\n",
    "for batch_size in batch_sizes:\n",
    "    t1 = time.perf_counter()\n",
    "    for batch in batch_generator([img]*200, batch_size):\n",
    "        vsnr2d(batch, filters)\n",
    "    t2 = time.perf_counter()\n",
    "    times.append((t2-t1)/200)\n",
    "\n",
    "    cp.fft.config.get_plan_cache().clear()\n",
    "    cp.get_default_memory_pool().free_all_blocks()\n",
    "    cp.get_default_pinned_memory_pool().free_all_blocks()\n",
    "\n",
    "\n",
    "\n",
    "plt.xlabel('Batch Size')\n",
    "plt.ylabel('Time (s)')\n",
    "plt.plot(batch_sizes, times)"
   ]
  },
  {
   "cell_type": "markdown",
   "metadata": {},
   "source": [
    "### Multrithreading on pyvsnr"
   ]
  },
  {
   "cell_type": "code",
   "execution_count": 17,
   "metadata": {},
   "outputs": [
    {
     "ename": "ValueError",
     "evalue": "algo must be 'cupy', or 'numpy'",
     "output_type": "error",
     "traceback": [
      "\u001b[0;31m---------------------------------------------------------------------------\u001b[0m",
      "\u001b[0;31mRemoteTraceback\u001b[0m                           Traceback (most recent call last)",
      "\u001b[0;31mRemoteTraceback\u001b[0m: \n\"\"\"\nTraceback (most recent call last):\n  File \"/nobackup/kp276129/envs/env_cuda/lib/python3.10/multiprocessing/pool.py\", line 125, in worker\n    result = (True, func(*args, **kwds))\n  File \"/nobackup/kp276129/envs/env_cuda/lib/python3.10/multiprocessing/pool.py\", line 48, in mapstar\n    return list(map(*args))\n  File \"/tmp/ipykernel_303998/2576258797.py\", line 13, in task\n    vsnr2d(img, filters,algo=\"cuda\")\n  File \"/home/kp276129/Documents/pyvsnr/tests/../src/pyvsnr/vsnr2d.py\", line 415, in vsnr2d\n    raise ValueError(\"algo must be 'cupy', or 'numpy'\")\nValueError: algo must be 'cupy', or 'numpy'\n\"\"\"",
      "\nThe above exception was the direct cause of the following exception:\n",
      "\u001b[0;31mValueError\u001b[0m                                Traceback (most recent call last)",
      "Cell \u001b[0;32mIn[17], line 18\u001b[0m\n\u001b[1;32m     16\u001b[0m t1 \u001b[38;5;241m=\u001b[39m time\u001b[38;5;241m.\u001b[39mperf_counter()\n\u001b[1;32m     17\u001b[0m \u001b[38;5;28;01mwith\u001b[39;00m Pool(\u001b[38;5;241m10\u001b[39m) \u001b[38;5;28;01mas\u001b[39;00m pool:\n\u001b[0;32m---> 18\u001b[0m     \u001b[43mpool\u001b[49m\u001b[38;5;241;43m.\u001b[39;49m\u001b[43mmap\u001b[49m\u001b[43m(\u001b[49m\u001b[43mtask\u001b[49m\u001b[43m,\u001b[49m\u001b[43m \u001b[49m\u001b[38;5;28;43mrange\u001b[39;49m\u001b[43m(\u001b[49m\u001b[43mnit\u001b[49m\u001b[43m)\u001b[49m\u001b[43m)\u001b[49m\n\u001b[1;32m     19\u001b[0m t2 \u001b[38;5;241m=\u001b[39m time\u001b[38;5;241m.\u001b[39mperf_counter()\n\u001b[1;32m     21\u001b[0m \u001b[38;5;66;03m# print average\u001b[39;00m\n",
      "File \u001b[0;32m/nobackup/kp276129/envs/env_cuda/lib/python3.10/multiprocessing/pool.py:367\u001b[0m, in \u001b[0;36mPool.map\u001b[0;34m(self, func, iterable, chunksize)\u001b[0m\n\u001b[1;32m    362\u001b[0m \u001b[38;5;28;01mdef\u001b[39;00m \u001b[38;5;21mmap\u001b[39m(\u001b[38;5;28mself\u001b[39m, func, iterable, chunksize\u001b[38;5;241m=\u001b[39m\u001b[38;5;28;01mNone\u001b[39;00m):\n\u001b[1;32m    363\u001b[0m \u001b[38;5;250m    \u001b[39m\u001b[38;5;124;03m'''\u001b[39;00m\n\u001b[1;32m    364\u001b[0m \u001b[38;5;124;03m    Apply `func` to each element in `iterable`, collecting the results\u001b[39;00m\n\u001b[1;32m    365\u001b[0m \u001b[38;5;124;03m    in a list that is returned.\u001b[39;00m\n\u001b[1;32m    366\u001b[0m \u001b[38;5;124;03m    '''\u001b[39;00m\n\u001b[0;32m--> 367\u001b[0m     \u001b[38;5;28;01mreturn\u001b[39;00m \u001b[38;5;28;43mself\u001b[39;49m\u001b[38;5;241;43m.\u001b[39;49m\u001b[43m_map_async\u001b[49m\u001b[43m(\u001b[49m\u001b[43mfunc\u001b[49m\u001b[43m,\u001b[49m\u001b[43m \u001b[49m\u001b[43miterable\u001b[49m\u001b[43m,\u001b[49m\u001b[43m \u001b[49m\u001b[43mmapstar\u001b[49m\u001b[43m,\u001b[49m\u001b[43m \u001b[49m\u001b[43mchunksize\u001b[49m\u001b[43m)\u001b[49m\u001b[38;5;241;43m.\u001b[39;49m\u001b[43mget\u001b[49m\u001b[43m(\u001b[49m\u001b[43m)\u001b[49m\n",
      "File \u001b[0;32m/nobackup/kp276129/envs/env_cuda/lib/python3.10/multiprocessing/pool.py:774\u001b[0m, in \u001b[0;36mApplyResult.get\u001b[0;34m(self, timeout)\u001b[0m\n\u001b[1;32m    772\u001b[0m     \u001b[38;5;28;01mreturn\u001b[39;00m \u001b[38;5;28mself\u001b[39m\u001b[38;5;241m.\u001b[39m_value\n\u001b[1;32m    773\u001b[0m \u001b[38;5;28;01melse\u001b[39;00m:\n\u001b[0;32m--> 774\u001b[0m     \u001b[38;5;28;01mraise\u001b[39;00m \u001b[38;5;28mself\u001b[39m\u001b[38;5;241m.\u001b[39m_value\n",
      "\u001b[0;31mValueError\u001b[0m: algo must be 'cupy', or 'numpy'"
     ]
    }
   ],
   "source": [
    "import sys\n",
    "from multiprocessing import Pool\n",
    "sys.path.append('..')\n",
    "from src.pyvsnr import vsnr2d\n",
    "import numpy as np\n",
    "import time\n",
    "\n",
    "filters=[{'name':'Dirac', 'noise_level':0.35}]\n",
    "img = np.random.rand(2048, 2048) # CuPy usage leads to CUDA initialization error\n",
    "nit=200\n",
    "\n",
    "def task(i):\n",
    "    vsnr2d(img, filters,algo=\"cuda\")\n",
    "\n",
    "# Calculating average time for 100 images\n",
    "t1 = time.perf_counter()\n",
    "with Pool(10) as pool:\n",
    "    pool.map(task, range(nit))\n",
    "t2 = time.perf_counter()\n",
    "\n",
    "# print average\n",
    "print(f\"Average time to apply vsnr2d: {(t2-t1)/nit} seconds\")\n"
   ]
  },
  {
   "cell_type": "markdown",
   "metadata": {},
   "source": [
    "### imread vs imread_collection : Same"
   ]
  },
  {
   "cell_type": "code",
   "execution_count": null,
   "metadata": {},
   "outputs": [],
   "source": [
    "from skimage.io import imread, imread_collection\n",
    "import glob\n",
    "import time\n",
    "\n",
    "image_paths = glob.glob('/nobackup/kp276129/test/1*/*')\n",
    "\n",
    "# Method 1 : Read with imread_collection\n",
    "t1 = time.perf_counter()\n",
    "imgs1 = list(imread_collection(image_paths))\n",
    "t2 = time.perf_counter()\n",
    "print(f\"Time taken to read images with imread_collection: {t2 - t1} seconds\")\n",
    "\n",
    "# Method 2 : Read with imread\n",
    "t3 = time.perf_counter()\n",
    "imgs2 = [imread(path) for path in image_paths]\n",
    "t4 = time.perf_counter()\n",
    "print(f\"Time taken to read images with imread: {t4 - t3} seconds\")\n"
   ]
  },
  {
   "cell_type": "markdown",
   "metadata": {},
   "source": [
    "### Nvimagecodec doesn't match the original image"
   ]
  },
  {
   "cell_type": "code",
   "execution_count": null,
   "metadata": {},
   "outputs": [],
   "source": [
    "from nvidia import nvimgcodec\n",
    "import glob\n",
    "import time\n",
    "import cupy as cp\n",
    "from matplotlib import pyplot as plt\n",
    "from tifffile import imread\n",
    "\n",
    "image_paths = glob.glob('/nobackup/kp276129/test/1*/*') # 10 4k tif\n",
    "data_list = []\n",
    "\n",
    "# Read 100 images\n",
    "t1 = time.perf_counter()\n",
    "params = nvimgcodec.DecodeParams(color_spec=nvimgcodec.ColorSpec.UNCHANGED, allow_any_depth=True)\n",
    "dec = nvimgcodec.Decoder()\n",
    "imgs = dec.read(image_paths, params)\n",
    "t2 = time.perf_counter()\n",
    "print(f\"Time taken to read {len(image_paths)} images: {t2 - t1} seconds\")\n",
    "\n",
    "img=dec.read(image_paths[0], params)\n",
    "# print(img1.__cuda_array_interface__)\n",
    "img=cp.asarray(img).squeeze().get()\n",
    "print(img.shape, img.max(), img.dtype)\n",
    "plt.figure()\n",
    "plt.imshow(img) \n",
    "\n",
    "img0 = imread(image_paths[0])\n",
    "print(img0.shape, img0.max(), img0.dtype)\n",
    "plt.figure()\n",
    "plt.imshow(img0)\n",
    "print(img0.max())\n",
    "assert cp.allclose(img0, img), \"The images do not match\"\n"
   ]
  },
  {
   "cell_type": "markdown",
   "metadata": {},
   "source": [
    "### Minimum Reproducible Example"
   ]
  },
  {
   "cell_type": "code",
   "execution_count": null,
   "metadata": {},
   "outputs": [],
   "source": [
    "import cupy as cp\n",
    "import numpy as np\n",
    "from nvidia import nvimgcodec\n",
    "import matplotlib.pyplot as plt\n",
    "from tifffile import imread, imwrite\n",
    "\n",
    "def sh_info(img, header=\"\"):\n",
    "    print(header)\n",
    "    print(f\"\\tShape: {img.shape}\")\n",
    "    print(f\"\\tMin value: {img.min()}\")\n",
    "    print(f\"\\tMax value: {img.max()}\")\n",
    "    print(f\"\\tData type: {img.dtype}\")\n",
    "\n",
    "# Creating a random 16-bit image\n",
    "arr = np.random.random((4096, 4096))\n",
    "arr *= 60000\n",
    "arr[100:400, 100:400] = 61000\n",
    "arr = arr.astype(np.uint16)\n",
    "sh_info(arr, \"Original Image\")\n",
    "\n",
    "# Writing the image to a tif file and reading it back\n",
    "imwrite('test.tif', arr, dtype=np.uint16)\n",
    "img0 = imread('test.tif')\n",
    "sh_info(img0, \"tifffile Decoded Image\")\n",
    "\n",
    "# Decode the image using nvimgcodec\n",
    "params = nvimgcodec.DecodeParams(color_spec=nvimgcodec.ColorSpec.UNCHANGED, allow_any_depth=True)\n",
    "dec = nvimgcodec.Decoder()\n",
    "img_decoded = dec.read('test.tif', params)\n",
    "\n",
    "# Convert the decoded image to a CuPy array\n",
    "cp_img = cp.asarray(img_decoded).get()\n",
    "sh_info(cp_img, \"nvImageCodec Decoded Image\")\n",
    "\n",
    "# Create a figure with 3 subplots\n",
    "plt.figure(figsize=(15, 5))\n",
    "\n",
    "plt.subplot(1, 3, 1)\n",
    "plt.title('Original Image')\n",
    "plt.imshow(arr)\n",
    "\n",
    "plt.subplot(1, 3, 2)\n",
    "plt.title(\"tifffile Decoded Image\")\n",
    "plt.imshow(img0)\n",
    "\n",
    "plt.subplot(1, 3, 3)\n",
    "plt.title('nvImageCodec Decoded Image')\n",
    "plt.imshow(cp_img)\n",
    "\n",
    "plt.tight_layout()\n",
    "plt.show()"
   ]
  },
  {
   "cell_type": "markdown",
   "metadata": {},
   "source": [
    "### Minimum Reproducible Example #2"
   ]
  },
  {
   "cell_type": "code",
   "execution_count": null,
   "metadata": {},
   "outputs": [],
   "source": [
    "from nvidia import nvimgcodec\n",
    "import matplotlib.pyplot as plt\n",
    "from skimage.io import imread\n",
    "import cupy as cp\n",
    "\n",
    "def sh_info(img):\n",
    "    print(f\"\\tShape: {img.shape}\")\n",
    "    print(f\"\\tMin value: {img.min()}\")\n",
    "    print(f\"\\tMax value: {img.max()}\")\n",
    "    print(f\"\\tData type: {img.dtype}\")\n",
    "    \n",
    "img_pth = './slice_00101_z=1.0988um.tif'\n",
    "\n",
    "params = nvimgcodec.DecodeParams(color_spec=nvimgcodec.ColorSpec.UNCHANGED, allow_any_depth=True)\n",
    "dec = nvimgcodec.Decoder()\n",
    "\n",
    "# Loading with nvImageCodec\n",
    "img=dec.read(img_pth, params)\n",
    "img=cp.asarray(img).squeeze().get()\n",
    "\n",
    "# Loading with skimage\n",
    "img1 = imread(img_pth)\n",
    "\n",
    "# Expected Output\n",
    "print(\"skimage:\")\n",
    "sh_info(img1)\n",
    "plt.title('Expected Image (skimage)')\n",
    "plt.imshow(img1)\n",
    "\n",
    "# Actual Output\n",
    "print(\"nvImageCodec:\")\n",
    "sh_info(img)\n",
    "plt.figure()\n",
    "plt.title('Image (nvImageCodec)')\n",
    "plt.imshow(img) \n",
    "\n",
    "assert cp.allclose(img1, img), \"The images do not match\"\n"
   ]
  },
  {
   "cell_type": "markdown",
   "metadata": {},
   "source": [
    "### Use streams to overlap data transfer and computation"
   ]
  },
  {
   "cell_type": "code",
   "execution_count": null,
   "metadata": {},
   "outputs": [],
   "source": [
    "import cupy as cp\n",
    "from tifffile import imread\n",
    "import glob\n",
    "import time\n",
    "from cupyx.scipy.ndimage import gaussian_filter, sobel\n",
    "from concurrent.futures import ThreadPoolExecutor\n",
    "\n",
    "# List of image paths\n",
    "image_paths = glob.glob('/nobackup/kp276129/test/2*/*')\n",
    "num_img = 100\n",
    "batch_size = 10\n",
    "\n",
    "def process_image(image):\n",
    "    # Apply a Gaussian blur\n",
    "    blurred = gaussian_filter(image, sigma=1)\n",
    "\n",
    "    # Apply a Sobel filter\n",
    "    filtered = sobel(blurred)\n",
    "\n",
    "    return filtered\n",
    "\n",
    "# Function to load a batch of images\n",
    "def load_batch(paths):\n",
    "    return [cp.array(imread(path)) for path in paths]\n",
    "\n",
    "# Function to process a batch of images\n",
    "def process_batch(batch):\n",
    "    return [process_image(image) for image in batch]\n",
    "\n",
    "# Create a ThreadPoolExecutor with more workers for better concurrency\n",
    "executor = ThreadPoolExecutor(max_workers=1)\n",
    "\n",
    "# Load the first batch of images\n",
    "batch = load_batch(image_paths[:batch_size])\n",
    "next_batch = None\n",
    "\n",
    "t1 = time.perf_counter()\n",
    "for i in range(0, num_img, batch_size):\n",
    "    # Process the current batch in the default stream\n",
    "    result = process_batch(batch)\n",
    "\n",
    "    # In a separate thread, load the next batch of images\n",
    "    if i + batch_size < num_img:\n",
    "        future = executor.submit(load_batch, image_paths[i+batch_size:i+2*batch_size])\n",
    "        batch = future.result() # Wait for the next batch to be loaded\n",
    "\n",
    "t2 = time.perf_counter()\n",
    "print(f\"Time taken with streams: {t2 - t1} seconds\")\n",
    "\n",
    "t3 = time.perf_counter()\n",
    "for i in range(0, num_img, batch_size):\n",
    "    batch = load_batch(image_paths[i:i+batch_size])\n",
    "    result = process_batch(batch)\n",
    "t4 = time.perf_counter()\n",
    "print(f\"Time taken without streams: {t4 - t3} seconds\")\n",
    "\n",
    "# TODO Slower with threads ? Loading images is faster than creating a thread ?\n"
   ]
  }
 ],
 "metadata": {
  "kernelspec": {
   "display_name": "Python 3",
   "language": "python",
   "name": "python3"
  },
  "language_info": {
   "codemirror_mode": {
    "name": "ipython",
    "version": 3
   },
   "file_extension": ".py",
   "mimetype": "text/x-python",
   "name": "python",
   "nbconvert_exporter": "python",
   "pygments_lexer": "ipython3",
   "version": "3.10.13"
  }
 },
 "nbformat": 4,
 "nbformat_minor": 2
}
