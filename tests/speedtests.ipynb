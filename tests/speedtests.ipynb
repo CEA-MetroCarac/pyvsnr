{
 "cells": [
  {
   "cell_type": "markdown",
   "metadata": {},
   "source": [
    "## VSNR2D Profiling"
   ]
  },
  {
   "cell_type": "code",
   "execution_count": null,
   "metadata": {},
   "outputs": [],
   "source": [
    "%%file speedtests.py\n",
    "from skimage.io import imread\n",
    "import glob\n",
    "import time\n",
    "import cupy as cp\n",
    "import matplotlib.pyplot as plt\n",
    "\n",
    "def image_generator(image_paths, batch_size):\n",
    "    for i in range(0, len(image_paths), batch_size):\n",
    "        batch_paths = image_paths[i:i+batch_size]\n",
    "\n",
    "        # Measure the time taken to read the images\n",
    "        t1 = time.perf_counter()\n",
    "        img_list = [imread(path) for path in batch_paths]\n",
    "        t2 = time.perf_counter()\n",
    "\n",
    "        # Measure the time taken to convert the list to a CuPy array\n",
    "        t3 = time.perf_counter()\n",
    "        batch_imgs = cp.array(img_list, dtype=cp.float32)\n",
    "        t4 = time.perf_counter()\n",
    "        print(f\"Time taken to convert to CuPy array: {t4 - t3} seconds\")\n",
    "\n",
    "        # t3 = time.perf_counter()\n",
    "        # batch_imgs = cp.random.rand(batch_size, 4224, 4224, dtype=cp.float32)\n",
    "        # t4 = time.perf_counter()\n",
    "\n",
    "        print(f\"Time taken to read images: {t2 - t1} seconds\")\n",
    "        print(f\"Time taken to create arrays: {t4-t3} seconds\")\n",
    "\n",
    "        yield batch_imgs\n",
    "\n",
    "\n",
    "def main(batch_size=20):\n",
    "    image_paths = glob.glob('/nobackup/kp276129/test/1*/*') # 100 4k tif\n",
    "    batch_times = []\n",
    "    individual_times = []\n",
    "\n",
    "    # 1 loop per batch\n",
    "    for batch_imgs in image_generator(image_paths, batch_size):\n",
    "\n",
    "        t0 = time.perf_counter()\n",
    "        imgs_corr = cp.fft.fft2(batch_imgs)\n",
    "        t1 = time.perf_counter()\n",
    "\n",
    "        cp.fft.config.get_plan_cache().clear()\n",
    "        cp.get_default_memory_pool().free_all_blocks()\n",
    "        cp.get_default_pinned_memory_pool().free_all_blocks()\n",
    "\n",
    "        # imgs_corr_2 = cp.zeros((batch_size, 4224, 4224), dtype=cp.complex64)\n",
    "        # t2 = time.perf_counter()\n",
    "        # for i, img in enumerate(batch_imgs):\n",
    "        #     imgs_corr_2[i] = cp.fft.fft2(img)\n",
    "        # t3 = time.perf_counter()\n",
    "\n",
    "        # cp.fft.config.get_plan_cache().clear()\n",
    "        # cp.get_default_memory_pool().free_all_blocks()\n",
    "        # cp.get_default_pinned_memory_pool().free_all_blocks()\n",
    "\n",
    "        batch_times.append(t1-t0)\n",
    "        # individual_times.append(t3-t2)\n",
    "\n",
    "    return batch_times\n",
    "\n",
    "    print(f\"Time taken for batch FFT: {t1-t0} seconds\")\n",
    "    # print(f\"Time taken for individual FFT: {t3-t2} seconds\")\n",
    "\n",
    "    # imgs = cp.array([skimage.io.imread(img) for img in imgs]) # this is taking 2m for 100 4k images\n",
    "    # imgs = cp.random.rand(2000, 2048, 2048)\n",
    "\n",
    "    # Check that the results are the same\n",
    "    # assert cp.allclose(imgs_corr, imgs_corr_2), \"The batch FFT results do not match the individual FFT results\""
   ]
  },
  {
   "cell_type": "code",
   "execution_count": null,
   "metadata": {},
   "outputs": [],
   "source": [
    "from speedtests import main\n",
    "import matplotlib.pyplot as plt\n",
    "\n",
    "batch_sizes = [2,5,10]\n",
    "batch_time_per_image = []\n",
    "# individual_time_per_image = []\n",
    "\n",
    "for batch_size in batch_sizes:\n",
    "    batch_time = main(batch_size)\n",
    "    num_images = batch_size * len(batch_time)\n",
    "    batch_time_per_image.append(sum(batch_time)/num_images)\n",
    "    # individual_time_per_image.append(sum(individual_times)/num_images)\n",
    "\n",
    "print(f\"Total Time for Batch FFT: {sum(batch_time)}\")\n",
    "# print(f\"Total Time for Individual FFT:  {sum(individual_times)}\")\n",
    "\n",
    "plt.plot(batch_sizes, batch_time_per_image, label='Batch FFT')\n",
    "# plt.plot(batch_sizes, individual_time_per_image, label='Individual FFT')\n",
    "plt.xlabel('Batch Size')\n",
    "plt.ylabel('Time per Image (s)')\n",
    "plt.legend()\n",
    "plt.show()\n"
   ]
  },
  {
   "cell_type": "code",
   "execution_count": null,
   "metadata": {},
   "outputs": [],
   "source": [
    "%load_ext memory_profiler\n",
    "from speedtests import main\n",
    "\n",
    "%mprun -f main main()"
   ]
  },
  {
   "cell_type": "code",
   "execution_count": null,
   "metadata": {},
   "outputs": [],
   "source": [
    "import sys\n",
    "sys.path.append('../')\n",
    "import src.pyvsnr as pyvsnr\n",
    "import cupy as cp\n",
    "import cProfile\n",
    "\n",
    "img = cp.random.rand(4200, 4200)\n",
    "filters=[{'name':'Dirac', 'noise_level':0.35}]\n",
    "\n",
    "cProfile.run('pyvsnr.vsnr2d(img, filters)')\n"
   ]
  },
  {
   "cell_type": "markdown",
   "metadata": {},
   "source": [
    "## Processing Times"
   ]
  },
  {
   "cell_type": "markdown",
   "metadata": {},
   "source": [
    "### Reading w/ skimage"
   ]
  },
  {
   "cell_type": "code",
   "execution_count": null,
   "metadata": {},
   "outputs": [],
   "source": [
    "# Reading with skimage\n",
    "\n",
    "from skimage.io import imread\n",
    "import glob\n",
    "import time\n",
    "\n",
    "image_paths = glob.glob('/nobackup/kp276129/test/1*/*') # 10 4k tif\n",
    "\n",
    "t1 = time.perf_counter()\n",
    "imgs = [imread(img) for img in image_paths]\n",
    "t2 = time.perf_counter()\n",
    "\n",
    "print(f\"Time taken to read {len(image_paths)} images: {t2 - t1} seconds\")"
   ]
  },
  {
   "cell_type": "markdown",
   "metadata": {},
   "source": [
    "### Reading w/ nvimagecodec"
   ]
  },
  {
   "cell_type": "code",
   "execution_count": null,
   "metadata": {},
   "outputs": [],
   "source": [
    "from nvidia import nvimgcodec\n",
    "import time\n",
    "import glob\n",
    "\n",
    "params = nvimgcodec.DecodeParams(color_spec=nvimgcodec.ColorSpec.UNCHANGED, allow_any_depth=True)\n",
    "dec = nvimgcodec.Decoder()\n",
    "\n",
    "t1 = time.perf_counter()\n",
    "imgs=dec.read(glob.glob('/nobackup/kp276129/test/1*/*'), params)\n",
    "t2 = time.perf_counter()\n",
    "print(f\"Time taken to read images: {t2 - t1} seconds\")\n",
    "# print(img.__cuda_array_interface__)\n",
    "# plt.imshow(img.cpu())"
   ]
  },
  {
   "cell_type": "markdown",
   "metadata": {},
   "source": [
    "### Loading into GPU (CuPy)"
   ]
  },
  {
   "cell_type": "code",
   "execution_count": null,
   "metadata": {},
   "outputs": [],
   "source": [
    "import cupy as cp\n",
    "\n",
    "imgs_cp = []\n",
    "\n",
    "# Converting 10 images to CuPy arrays\n",
    "t3 = time.perf_counter()\n",
    "for img in imgs:\n",
    "    imgs_cp.append(cp.asarray(img).squeeze())\n",
    "t4 = time.perf_counter()\n",
    "\n",
    "print(f\"Time taken to convert {len(imgs)} images to CuPy arrays: {t4 - t3} seconds\")"
   ]
  },
  {
   "cell_type": "markdown",
   "metadata": {},
   "source": [
    "### Processing vnsr2d"
   ]
  },
  {
   "cell_type": "code",
   "execution_count": null,
   "metadata": {},
   "outputs": [],
   "source": [
    "import sys\n",
    "sys.path.append('..')\n",
    "from src.pyvsnr import vsnr2d\n",
    "\n",
    "filters=[{'name':'Dirac', 'noise_level':0.35}]\n",
    "\n",
    "# Time to apply vsnr2d to 10 images one by one\n",
    "t5 = time.perf_counter()\n",
    "for img in imgs_cp:\n",
    "    vsnr2d(img, filters)\n",
    "t6 = time.perf_counter()\n",
    "\n",
    "print(f\"Time taken to apply vsnr2d to {len(imgs)} images: {t6 - t5} seconds\")"
   ]
  },
  {
   "cell_type": "markdown",
   "metadata": {},
   "source": [
    "### Time Distribution"
   ]
  },
  {
   "cell_type": "code",
   "execution_count": null,
   "metadata": {},
   "outputs": [],
   "source": [
    "import matplotlib.pyplot as plt\n",
    "\n",
    "activities = ['Reading', 'Loading', 'Processing']\n",
    "\n",
    "time_taken = [t2-t1, t4-t3, t6-t5]\n",
    "\n",
    "# Create a pie chart\n",
    "plt.pie(time_taken, labels=activities, autopct='%1.1f%%', startangle=140)\n",
    "\n",
    "# Add title and legend\n",
    "plt.title('Time Distribution')\n",
    "plt.legend(activities, loc=\"best\")\n",
    "\n",
    "# Display the plot\n",
    "plt.show()"
   ]
  },
  {
   "cell_type": "markdown",
   "metadata": {},
   "source": [
    "## Others"
   ]
  },
  {
   "cell_type": "markdown",
   "metadata": {},
   "source": [
    "### imread vs imread_collection : Same"
   ]
  },
  {
   "cell_type": "code",
   "execution_count": null,
   "metadata": {},
   "outputs": [],
   "source": [
    "from skimage.io import imread, imread_collection\n",
    "import glob\n",
    "import time\n",
    "\n",
    "image_paths = glob.glob('/nobackup/kp276129/test/1*/*')\n",
    "\n",
    "# Method 1 : Read with imread_collection\n",
    "t1 = time.perf_counter()\n",
    "imgs1 = list(imread_collection(image_paths))\n",
    "t2 = time.perf_counter()\n",
    "print(f\"Time taken to read images with imread_collection: {t2 - t1} seconds\")\n",
    "\n",
    "# Method 2 : Read with imread\n",
    "t3 = time.perf_counter()\n",
    "imgs2 = [imread(path) for path in image_paths]\n",
    "t4 = time.perf_counter()\n",
    "print(f\"Time taken to read images with imread: {t4 - t3} seconds\")\n"
   ]
  },
  {
   "cell_type": "markdown",
   "metadata": {},
   "source": [
    "### Nvimagecodec doesn't match the original image"
   ]
  },
  {
   "cell_type": "code",
   "execution_count": null,
   "metadata": {},
   "outputs": [],
   "source": [
    "from nvidia import nvimgcodec\n",
    "import glob\n",
    "import time\n",
    "import cupy as cp\n",
    "from matplotlib import pyplot as plt\n",
    "from tifffile import imread\n",
    "\n",
    "image_paths = glob.glob('/nobackup/kp276129/test/1*/*') # 10 4k tif\n",
    "data_list = []\n",
    "\n",
    "# Read 100 images\n",
    "t1 = time.perf_counter()\n",
    "params = nvimgcodec.DecodeParams(color_spec=nvimgcodec.ColorSpec.UNCHANGED, allow_any_depth=True)\n",
    "dec = nvimgcodec.Decoder()\n",
    "imgs = dec.read(image_paths, params)\n",
    "t2 = time.perf_counter()\n",
    "print(f\"Time taken to read {len(image_paths)} images: {t2 - t1} seconds\")\n",
    "\n",
    "img=dec.read(image_paths[0], params)\n",
    "# print(img1.__cuda_array_interface__)\n",
    "img=cp.asarray(img).squeeze().get()\n",
    "print(img.shape, img.max(), img.dtype)\n",
    "plt.figure()\n",
    "plt.imshow(img) \n",
    "\n",
    "img0 = imread(image_paths[0])\n",
    "print(img0.shape, img0.max(), img0.dtype)\n",
    "plt.figure()\n",
    "plt.imshow(img0)\n",
    "print(img0.max())\n",
    "assert cp.allclose(img0, img), \"The images do not match\"\n"
   ]
  },
  {
   "cell_type": "markdown",
   "metadata": {},
   "source": [
    "### Batch vs Individual Processing"
   ]
  },
  {
   "cell_type": "code",
   "execution_count": null,
   "metadata": {},
   "outputs": [],
   "source": [
    "# Comparing batch processing vs individual processing on simple FFT\n",
    "\n",
    "# Method 1 batch\n",
    "t7 = time.perf_counter()\n",
    "imgs_corr = cp.fft.fft2(imgs_cp)\n",
    "t8 = time.perf_counter()\n",
    "\n",
    "print(f\"Time taken to apply FFT to {len(imgs)} images in batch: {t8 - t7} seconds\")\n",
    "\n",
    "# Method 2 individual\n",
    "imgs_corr_2 = cp.zeros((len(imgs), 4224, 4224), dtype=cp.complex64)\n",
    "t9 = time.perf_counter()\n",
    "for i, img in enumerate(imgs_cp):\n",
    "    imgs_corr_2[i] = cp.fft.fft2(img)\n",
    "t10 = time.perf_counter()\n",
    "\n",
    "print(f\"Time taken to apply FFT to {len(imgs)} images individually: {t10 - t9} seconds\")"
   ]
  }
 ],
 "metadata": {
  "kernelspec": {
   "display_name": "Python 3",
   "language": "python",
   "name": "python3"
  },
  "language_info": {
   "codemirror_mode": {
    "name": "ipython",
    "version": 3
   },
   "file_extension": ".py",
   "mimetype": "text/x-python",
   "name": "python",
   "nbconvert_exporter": "python",
   "pygments_lexer": "ipython3",
   "version": "3.10.13"
  }
 },
 "nbformat": 4,
 "nbformat_minor": 2
}
